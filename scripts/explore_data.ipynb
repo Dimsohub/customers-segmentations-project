{
 "cells": [
  {
   "cell_type": "markdown",
   "id": "e9c5e9db",
   "metadata": {},
   "source": [
    "⚠️ Note:\n",
    "\n",
    "Interactive Plotly charts may not render correctly on GitHub due to limitations in how notebooks are displayed.\n",
    "For full interactivity and correct layout, please open this notebook in Google Colab:"
   ]
  },
  {
   "cell_type": "markdown",
   "id": "ac6df17d",
   "metadata": {
    "id": "ac6df17d"
   },
   "source": [
    "[![Open in Colab](https://colab.research.google.com/assets/colab-badge.svg)](https://colab.research.google.com/github/Dimsohub/customers-segmentations-project/blob/main/scripts/explore_data.ipynb)\n",
    "\n"
   ]
  },
  {
   "cell_type": "markdown",
   "id": "e7a17340",
   "metadata": {
    "id": "e7a17340"
   },
   "source": [
    "# Сustomers segmentation: SQL + EDA (Colab-ready)\n",
    "\n",
    "This notebook is a clean, recruiter-friendly demo that:\n",
    "- Downloads the SQLite database from Google Drive via `gdown` (no manual Drive mount required).\n",
    "- Connects with `sqlite3` and runs a few example SQL queries.\n",
    "- Visualizes results with Plotly."
   ]
  },
  {
   "cell_type": "markdown",
   "id": "00ee3880-f029-43e7-8e6f-cb89bf30bfce",
   "metadata": {
    "id": "00ee3880-f029-43e7-8e6f-cb89bf30bfce"
   },
   "source": [
    "# INTRO"
   ]
  },
  {
   "cell_type": "markdown",
   "id": "0751fab9-d82a-42ea-be36-54f4ce2358e2",
   "metadata": {
    "id": "0751fab9-d82a-42ea-be36-54f4ce2358e2"
   },
   "source": [
    "This project is an online retail data analysis using SQL and Python.\n",
    "The data is stored in an SQLite database, and queries are executed directly from Python with subsequent visualization of the results using the Matplotlib library.\n",
    "The main goal of the project is to answer key business questions related to customer behavior and sales, and to present the findings in a clear, visual format.\n",
    "\n",
    "Business questions addressed in this analysis:\n",
    "\n",
    "What is the distribution of order values across all customers in the dataset?\n",
    "\n",
    "How many unique products has each customer purchased?\n",
    "\n",
    "How many customers have only made a single purchase from the company?\n",
    "\n",
    "Which products are most commonly purchased together by customers in the dataset?\n",
    "\n"
   ]
  },
  {
   "cell_type": "markdown",
   "id": "9c6dfca7-236a-4979-8796-a92c900ee489",
   "metadata": {
    "id": "9c6dfca7-236a-4979-8796-a92c900ee489"
   },
   "source": [
    "## Preparation and preview data"
   ]
  },
  {
   "cell_type": "code",
   "execution_count": 1,
   "id": "04649021-18a3-415d-b525-83cc07775e69",
   "metadata": {},
   "outputs": [
    {
     "name": "stdout",
     "output_type": "stream",
     "text": [
      "Database found at: /Users/ds/Library/CloudStorage/GoogleDrive-dimsomail@gmail.com/My Drive/Projects/customers-segmentations-project/data/online_retail.db\n",
      "Columns in database: ['invoiceno', 'stockcode', 'description', 'quantity', 'invoicedate', 'unitprice', 'customerid', 'country']\n"
     ]
    },
    {
     "data": {
      "text/html": [
       "<div>\n",
       "<style scoped>\n",
       "    .dataframe tbody tr th:only-of-type {\n",
       "        vertical-align: middle;\n",
       "    }\n",
       "\n",
       "    .dataframe tbody tr th {\n",
       "        vertical-align: top;\n",
       "    }\n",
       "\n",
       "    .dataframe thead th {\n",
       "        text-align: right;\n",
       "    }\n",
       "</style>\n",
       "<table border=\"1\" class=\"dataframe\">\n",
       "  <thead>\n",
       "    <tr style=\"text-align: right;\">\n",
       "      <th></th>\n",
       "      <th>invoiceno</th>\n",
       "      <th>stockcode</th>\n",
       "      <th>description</th>\n",
       "      <th>quantity</th>\n",
       "      <th>invoicedate</th>\n",
       "      <th>unitprice</th>\n",
       "      <th>customerid</th>\n",
       "      <th>country</th>\n",
       "    </tr>\n",
       "  </thead>\n",
       "  <tbody>\n",
       "    <tr>\n",
       "      <th>0</th>\n",
       "      <td>536365</td>\n",
       "      <td>85123A</td>\n",
       "      <td>WHITE HANGING HEART T-LIGHT HOLDER</td>\n",
       "      <td>6</td>\n",
       "      <td>12/1/10 8:26</td>\n",
       "      <td>2.55</td>\n",
       "      <td>17850.0</td>\n",
       "      <td>United Kingdom</td>\n",
       "    </tr>\n",
       "    <tr>\n",
       "      <th>1</th>\n",
       "      <td>536365</td>\n",
       "      <td>71053</td>\n",
       "      <td>WHITE METAL LANTERN</td>\n",
       "      <td>6</td>\n",
       "      <td>12/1/10 8:26</td>\n",
       "      <td>3.39</td>\n",
       "      <td>17850.0</td>\n",
       "      <td>United Kingdom</td>\n",
       "    </tr>\n",
       "    <tr>\n",
       "      <th>2</th>\n",
       "      <td>536365</td>\n",
       "      <td>84406B</td>\n",
       "      <td>CREAM CUPID HEARTS COAT HANGER</td>\n",
       "      <td>8</td>\n",
       "      <td>12/1/10 8:26</td>\n",
       "      <td>2.75</td>\n",
       "      <td>17850.0</td>\n",
       "      <td>United Kingdom</td>\n",
       "    </tr>\n",
       "    <tr>\n",
       "      <th>3</th>\n",
       "      <td>536365</td>\n",
       "      <td>84029G</td>\n",
       "      <td>KNITTED UNION FLAG HOT WATER BOTTLE</td>\n",
       "      <td>6</td>\n",
       "      <td>12/1/10 8:26</td>\n",
       "      <td>3.39</td>\n",
       "      <td>17850.0</td>\n",
       "      <td>United Kingdom</td>\n",
       "    </tr>\n",
       "    <tr>\n",
       "      <th>4</th>\n",
       "      <td>536365</td>\n",
       "      <td>84029E</td>\n",
       "      <td>RED WOOLLY HOTTIE WHITE HEART.</td>\n",
       "      <td>6</td>\n",
       "      <td>12/1/10 8:26</td>\n",
       "      <td>3.39</td>\n",
       "      <td>17850.0</td>\n",
       "      <td>United Kingdom</td>\n",
       "    </tr>\n",
       "  </tbody>\n",
       "</table>\n",
       "</div>"
      ],
      "text/plain": [
       "  invoiceno stockcode                          description  quantity  \\\n",
       "0    536365    85123A   WHITE HANGING HEART T-LIGHT HOLDER         6   \n",
       "1    536365     71053                  WHITE METAL LANTERN         6   \n",
       "2    536365    84406B       CREAM CUPID HEARTS COAT HANGER         8   \n",
       "3    536365    84029G  KNITTED UNION FLAG HOT WATER BOTTLE         6   \n",
       "4    536365    84029E       RED WOOLLY HOTTIE WHITE HEART.         6   \n",
       "\n",
       "    invoicedate  unitprice  customerid         country  \n",
       "0  12/1/10 8:26       2.55     17850.0  United Kingdom  \n",
       "1  12/1/10 8:26       3.39     17850.0  United Kingdom  \n",
       "2  12/1/10 8:26       2.75     17850.0  United Kingdom  \n",
       "3  12/1/10 8:26       3.39     17850.0  United Kingdom  \n",
       "4  12/1/10 8:26       3.39     17850.0  United Kingdom  "
      ]
     },
     "execution_count": 1,
     "metadata": {},
     "output_type": "execute_result"
    }
   ],
   "source": [
    "# =================================\n",
    "# OPTION 1: Run in Colab or Jupyter\n",
    "# =================================\n",
    "\n",
    "import os\n",
    "import sys\n",
    "import subprocess\n",
    "import sqlite3\n",
    "import pandas as pd\n",
    "import plotly.express as px\n",
    "import plotly.io as pio\n",
    "from pathlib import Path\n",
    "\n",
    "# Detect environment (Colab or not)\n",
    "IN_COLAB = 'COLAB_GPU' in os.environ or 'COLAB_RELEASE_TAG' in os.environ\n",
    "\n",
    "# Ensure gdown is installed\n",
    "try:\n",
    "    import gdown\n",
    "except ImportError:\n",
    "    subprocess.check_call([sys.executable, \"-m\", \"pip\", \"install\", \"gdown\"])\n",
    "    import gdown\n",
    "\n",
    "# Shared settings\n",
    "URL = \"https://drive.google.com/uc?export=download&id=1YI4PEJj2ouvz1pYbThGcs2EmBN1X-L-b\"\n",
    "\n",
    "# Set database path depending on environment\n",
    "if IN_COLAB:\n",
    "    # In Colab: use /content/ (you can change to /content/data if you prefer)\n",
    "    data_dir = Path(\"/content\")\n",
    "    data_dir.mkdir(parents=True, exist_ok=True)\n",
    "    db_path = data_dir / \"online_retail.db\"\n",
    "    if not db_path.exists():\n",
    "        print(\"Colab detected — downloading database to:\", db_path)\n",
    "        gdown.download(URL, str(db_path), quiet=False)\n",
    "else:\n",
    "    # In local Jupyter: place DB in project_root/data\n",
    "    cwd = Path.cwd()\n",
    "    # If we are inside a 'scripts' folder, assume project root is parent directory\n",
    "    if cwd.name.lower() == \"scripts\":\n",
    "        project_root = cwd.parent\n",
    "    else:\n",
    "        # Try to find git root (optional); fallback to cwd\n",
    "        project_root = None\n",
    "        for p in [cwd] + list(cwd.parents):\n",
    "            if (p / \".git\").exists():\n",
    "                project_root = p\n",
    "                break\n",
    "        if project_root is None:\n",
    "            project_root = cwd\n",
    "\n",
    "    data_dir = project_root / \"data\"\n",
    "    data_dir.mkdir(parents=True, exist_ok=True)\n",
    "    db_path = data_dir / \"online_retail.db\"\n",
    "    if not db_path.exists():\n",
    "        print(\"Local environment detected — downloading database to:\", db_path)\n",
    "        gdown.download(URL, str(db_path), quiet=False)\n",
    "\n",
    "# Verify database exists\n",
    "if db_path.exists():\n",
    "    print(\"Database found at:\", db_path)\n",
    "else:\n",
    "    raise FileNotFoundError(f\"{db_path} not found\")\n",
    "\n",
    "# Connect to SQLite database\n",
    "conn = sqlite3.connect(str(db_path))\n",
    "\n",
    "# Test query: preview first 5 rows\n",
    "query = \"SELECT * FROM online_retail LIMIT 5;\"\n",
    "df = pd.read_sql_query(query, conn)\n",
    "\n",
    "print(\"Columns in database:\", df.columns.tolist())\n",
    "df.head()"
   ]
  },
  {
   "cell_type": "code",
   "execution_count": null,
   "id": "f8a1a719-d3cc-4403-9d21-9863aba8e78c",
   "metadata": {
    "id": "f8a1a719-d3cc-4403-9d21-9863aba8e78c",
    "outputId": "953ca7e8-3244-433e-c313-a60ad1940387"
   },
   "outputs": [
    {
     "name": "stdout",
     "output_type": "stream",
     "text": [
      "['invoiceno', 'stockcode', 'description', 'quantity', 'invoicedate', 'unitprice', 'customerid', 'country']\n"
     ]
    },
    {
     "data": {
      "text/html": [
       "<div>\n",
       "<style scoped>\n",
       "    .dataframe tbody tr th:only-of-type {\n",
       "        vertical-align: middle;\n",
       "    }\n",
       "\n",
       "    .dataframe tbody tr th {\n",
       "        vertical-align: top;\n",
       "    }\n",
       "\n",
       "    .dataframe thead th {\n",
       "        text-align: right;\n",
       "    }\n",
       "</style>\n",
       "<table border=\"1\" class=\"dataframe\">\n",
       "  <thead>\n",
       "    <tr style=\"text-align: right;\">\n",
       "      <th></th>\n",
       "      <th>invoiceno</th>\n",
       "      <th>stockcode</th>\n",
       "      <th>description</th>\n",
       "      <th>quantity</th>\n",
       "      <th>invoicedate</th>\n",
       "      <th>unitprice</th>\n",
       "      <th>customerid</th>\n",
       "      <th>country</th>\n",
       "    </tr>\n",
       "  </thead>\n",
       "  <tbody>\n",
       "    <tr>\n",
       "      <th>0</th>\n",
       "      <td>536365</td>\n",
       "      <td>85123A</td>\n",
       "      <td>WHITE HANGING HEART T-LIGHT HOLDER</td>\n",
       "      <td>6</td>\n",
       "      <td>12/1/10 8:26</td>\n",
       "      <td>2.55</td>\n",
       "      <td>17850.0</td>\n",
       "      <td>United Kingdom</td>\n",
       "    </tr>\n",
       "    <tr>\n",
       "      <th>1</th>\n",
       "      <td>536365</td>\n",
       "      <td>71053</td>\n",
       "      <td>WHITE METAL LANTERN</td>\n",
       "      <td>6</td>\n",
       "      <td>12/1/10 8:26</td>\n",
       "      <td>3.39</td>\n",
       "      <td>17850.0</td>\n",
       "      <td>United Kingdom</td>\n",
       "    </tr>\n",
       "    <tr>\n",
       "      <th>2</th>\n",
       "      <td>536365</td>\n",
       "      <td>84406B</td>\n",
       "      <td>CREAM CUPID HEARTS COAT HANGER</td>\n",
       "      <td>8</td>\n",
       "      <td>12/1/10 8:26</td>\n",
       "      <td>2.75</td>\n",
       "      <td>17850.0</td>\n",
       "      <td>United Kingdom</td>\n",
       "    </tr>\n",
       "    <tr>\n",
       "      <th>3</th>\n",
       "      <td>536365</td>\n",
       "      <td>84029G</td>\n",
       "      <td>KNITTED UNION FLAG HOT WATER BOTTLE</td>\n",
       "      <td>6</td>\n",
       "      <td>12/1/10 8:26</td>\n",
       "      <td>3.39</td>\n",
       "      <td>17850.0</td>\n",
       "      <td>United Kingdom</td>\n",
       "    </tr>\n",
       "    <tr>\n",
       "      <th>4</th>\n",
       "      <td>536365</td>\n",
       "      <td>84029E</td>\n",
       "      <td>RED WOOLLY HOTTIE WHITE HEART.</td>\n",
       "      <td>6</td>\n",
       "      <td>12/1/10 8:26</td>\n",
       "      <td>3.39</td>\n",
       "      <td>17850.0</td>\n",
       "      <td>United Kingdom</td>\n",
       "    </tr>\n",
       "  </tbody>\n",
       "</table>\n",
       "</div>"
      ],
      "text/plain": [
       "  invoiceno stockcode                          description  quantity  \\\n",
       "0    536365    85123A   WHITE HANGING HEART T-LIGHT HOLDER         6   \n",
       "1    536365     71053                  WHITE METAL LANTERN         6   \n",
       "2    536365    84406B       CREAM CUPID HEARTS COAT HANGER         8   \n",
       "3    536365    84029G  KNITTED UNION FLAG HOT WATER BOTTLE         6   \n",
       "4    536365    84029E       RED WOOLLY HOTTIE WHITE HEART.         6   \n",
       "\n",
       "    invoicedate  unitprice  customerid         country  \n",
       "0  12/1/10 8:26       2.55     17850.0  United Kingdom  \n",
       "1  12/1/10 8:26       3.39     17850.0  United Kingdom  \n",
       "2  12/1/10 8:26       2.75     17850.0  United Kingdom  \n",
       "3  12/1/10 8:26       3.39     17850.0  United Kingdom  \n",
       "4  12/1/10 8:26       3.39     17850.0  United Kingdom  "
      ]
     },
     "execution_count": 1,
     "metadata": {},
     "output_type": "execute_result"
    }
   ],
   "source": [
    "# ==========================\n",
    "# OPTION 2: Run locally\n",
    "# ==========================\n",
    "#\n",
    "# import sqlite3\n",
    "# import pandas as pd\n",
    "# import plotly.express as px\n",
    "#\n",
    "# Connect to the SQLite database\n",
    "# conn = sqlite3.connect(\"../data/online_retail.db\")\n",
    "# Test query\n",
    "# query = \"SELECT * FROM online_retail LIMIT 5;\"\n",
    "# df = pd.read_sql_query(query, conn)\n",
    "# print(df.columns.tolist())\n",
    "#\n",
    "# df.head()"
   ]
  },
  {
   "cell_type": "markdown",
   "id": "7b9e41d7-db41-46e6-b270-a5223a37813c",
   "metadata": {
    "id": "7b9e41d7-db41-46e6-b270-a5223a37813c"
   },
   "source": [
    "## What is the distribution of order values across all customers in the dataset?"
   ]
  },
  {
   "cell_type": "code",
   "execution_count": null,
   "id": "152a5022-4a4a-4d00-9487-5d520d65d1e9",
   "metadata": {
    "colab": {
     "base_uri": "https://localhost:8080/",
     "height": 617
    },
    "id": "152a5022-4a4a-4d00-9487-5d520d65d1e9",
    "outputId": "d23621ee-ce36-42de-a490-1063883c5fa0"
   },
   "outputs": [
    {
     "data": {
      "image/svg+xml": [
       "<svg class=\"main-svg\" xmlns=\"http://www.w3.org/2000/svg\" xmlns:xlink=\"http://www.w3.org/1999/xlink\" width=\"700\" height=\"500\" style=\"\" viewBox=\"0 0 700 500\"><rect x=\"0\" y=\"0\" width=\"700\" height=\"500\" style=\"fill: rgb(255, 255, 255); fill-opacity: 1;\"/><defs id=\"defs-7ac355\"><g class=\"clips\"><clipPath id=\"clip7ac355xyplot\" class=\"plotclip\"><rect width=\"540\" height=\"301\"/></clipPath><clipPath class=\"axesclip\" id=\"clip7ac355x\"><rect x=\"80\" y=\"0\" width=\"540\" height=\"500\"/></clipPath><clipPath class=\"axesclip\" id=\"clip7ac355y\"><rect x=\"0\" y=\"100\" width=\"700\" height=\"301\"/></clipPath><clipPath class=\"axesclip\" id=\"clip7ac355xy\"><rect x=\"80\" y=\"100\" width=\"540\" height=\"301\"/></clipPath></g><g class=\"gradients\"/><g class=\"patterns\"/></defs><g class=\"bglayer\"/><g class=\"layer-below\"><g class=\"imagelayer\"/><g class=\"shapelayer\"/></g><g class=\"cartesianlayer\"><g class=\"subplot xy\"><g class=\"layer-subplot\"><g class=\"shapelayer\"/><g class=\"imagelayer\"/></g><g class=\"minor-gridlayer\"><g class=\"x\"/><g class=\"y\"/></g><g class=\"gridlayer\"><g class=\"x\"/><g class=\"y\"/></g><g class=\"zerolinelayer\"/><g class=\"layer-between\"><g class=\"shapelayer\"/><g class=\"imagelayer\"/></g><path class=\"xlines-below\"/><path class=\"ylines-below\"/><g class=\"overlines-below\"/><g class=\"xaxislayer-below\"/><g class=\"yaxislayer-below\"/><g class=\"overaxes-below\"/><g class=\"overplot\"><g class=\"xy\" transform=\"translate(80,100)\" clip-path=\"url(#clip7ac355xyplot)\"><g class=\"barlayer mlayer\"><g class=\"trace bars\" style=\"opacity: 1;\"><g class=\"points\"><g class=\"point\"><path d=\"M6.75,301V15.05H60.75V301Z\" style=\"vector-effect: none; opacity: 1; stroke-width: 0.5px; fill: rgb(75, 0, 130); fill-opacity: 1; stroke: rgb(229, 236, 246); stroke-opacity: 1;\"/><text class=\"bartext bartext-inside\" text-anchor=\"middle\" data-notex=\"1\" x=\"0\" y=\"0\" style=\"font-family: 'Open Sans', verdana, arial, sans-serif; font-size: 12px; fill: rgb(255, 255, 255); fill-opacity: 1; white-space: pre;\" transform=\"translate(33.75,30.05)\">15028</text></g><g class=\"point\"><path d=\"M74.25,301V242.2H128.25V301Z\" style=\"vector-effect: none; opacity: 1; stroke-width: 0.5px; fill: rgb(75, 0, 130); fill-opacity: 1; stroke: rgb(229, 236, 246); stroke-opacity: 1;\"/><text class=\"bartext bartext-inside\" text-anchor=\"middle\" data-notex=\"1\" x=\"0\" y=\"0\" style=\"font-family: 'Open Sans', verdana, arial, sans-serif; font-size: 12px; fill: rgb(255, 255, 255); fill-opacity: 1; white-space: pre;\" transform=\"translate(101.25,257.2)\">3090</text></g><g class=\"point\"><path d=\"M141.75,301V286.58H195.75V301Z\" style=\"vector-effect: none; opacity: 1; stroke-width: 0.5px; fill: rgb(75, 0, 130); fill-opacity: 1; stroke: rgb(229, 236, 246); stroke-opacity: 1;\"/><text class=\"bartext bartext-outside\" text-anchor=\"middle\" data-notex=\"1\" x=\"0\" y=\"0\" style=\"font-family: 'Open Sans', verdana, arial, sans-serif; font-size: 12px; fill: rgb(42, 63, 95); fill-opacity: 1; white-space: pre;\" transform=\"translate(168.75,280.58)\">758</text></g><g class=\"point\"><path d=\"M209.25,301V293.77H263.25V301Z\" style=\"vector-effect: none; opacity: 1; stroke-width: 0.5px; fill: rgb(75, 0, 130); fill-opacity: 1; stroke: rgb(229, 236, 246); stroke-opacity: 1;\"/><text class=\"bartext bartext-outside\" text-anchor=\"middle\" data-notex=\"1\" x=\"0\" y=\"0\" style=\"font-family: 'Open Sans', verdana, arial, sans-serif; font-size: 12px; fill: rgb(42, 63, 95); fill-opacity: 1; white-space: pre;\" transform=\"translate(236.25,287.77)\">380</text></g><g class=\"point\"><path d=\"M276.75,301V295.27H330.75V301Z\" style=\"vector-effect: none; opacity: 1; stroke-width: 0.5px; fill: rgb(75, 0, 130); fill-opacity: 1; stroke: rgb(229, 236, 246); stroke-opacity: 1;\"/><text class=\"bartext bartext-outside\" text-anchor=\"middle\" data-notex=\"1\" x=\"0\" y=\"0\" style=\"font-family: 'Open Sans', verdana, arial, sans-serif; font-size: 12px; fill: rgb(42, 63, 95); fill-opacity: 1; white-space: pre;\" transform=\"translate(303.75,289.27)\">301</text></g><g class=\"point\"><path d=\"M344.25,301V298.47H398.25V301Z\" style=\"vector-effect: none; opacity: 1; stroke-width: 0.5px; fill: rgb(75, 0, 130); fill-opacity: 1; stroke: rgb(229, 236, 246); stroke-opacity: 1;\"/><text class=\"bartext bartext-outside\" text-anchor=\"middle\" data-notex=\"1\" x=\"0\" y=\"0\" style=\"font-family: 'Open Sans', verdana, arial, sans-serif; font-size: 12px; fill: rgb(42, 63, 95); fill-opacity: 1; white-space: pre;\" transform=\"translate(371.25,292.47)\">133</text></g><g class=\"point\"><path d=\"M411.75,301V299.38H465.75V301Z\" style=\"vector-effect: none; opacity: 1; stroke-width: 0.5px; fill: rgb(75, 0, 130); fill-opacity: 1; stroke: rgb(229, 236, 246); stroke-opacity: 1;\"/><text class=\"bartext bartext-outside\" text-anchor=\"middle\" data-notex=\"1\" x=\"0\" y=\"0\" style=\"font-family: 'Open Sans', verdana, arial, sans-serif; font-size: 12px; fill: rgb(42, 63, 95); fill-opacity: 1; white-space: pre;\" transform=\"translate(438.75,293.38)\">85</text></g><g class=\"point\"><path d=\"M479.25,301V297.48H533.25V301Z\" style=\"vector-effect: none; opacity: 1; stroke-width: 0.5px; fill: rgb(75, 0, 130); fill-opacity: 1; stroke: rgb(229, 236, 246); stroke-opacity: 1;\"/><text class=\"bartext bartext-outside\" text-anchor=\"middle\" data-notex=\"1\" x=\"0\" y=\"0\" style=\"font-family: 'Open Sans', verdana, arial, sans-serif; font-size: 12px; fill: rgb(42, 63, 95); fill-opacity: 1; white-space: pre;\" transform=\"translate(506.25,291.48)\">185</text></g></g></g></g></g></g><g class=\"zerolinelayer-above\"/><path class=\"xlines-above crisp\" d=\"M0,0\" style=\"fill: none;\"/><path class=\"ylines-above crisp\" d=\"M0,0\" style=\"fill: none;\"/><g class=\"overlines-above\"/><g class=\"xaxislayer-above\"><g class=\"xtick\"><text text-anchor=\"end\" x=\"0\" y=\"414\" transform=\"translate(113.75,0) rotate(-45,0,408)\" style=\"font-family: 'Open Sans', verdana, arial, sans-serif; font-size: 12px; fill: rgb(42, 63, 95); fill-opacity: 1; white-space: pre;\">0–500</text></g><g class=\"xtick\"><text text-anchor=\"end\" x=\"0\" y=\"414\" transform=\"translate(181.25,0) rotate(-45,0,408)\" style=\"font-family: 'Open Sans', verdana, arial, sans-serif; font-size: 12px; fill: rgb(42, 63, 95); fill-opacity: 1; white-space: pre;\">500–1000</text></g><g class=\"xtick\"><text text-anchor=\"end\" x=\"0\" y=\"414\" transform=\"translate(248.75,0) rotate(-45,0,408)\" style=\"font-family: 'Open Sans', verdana, arial, sans-serif; font-size: 12px; fill: rgb(42, 63, 95); fill-opacity: 1; white-space: pre;\">1000–1500</text></g><g class=\"xtick\"><text text-anchor=\"end\" x=\"0\" y=\"414\" transform=\"translate(316.25,0) rotate(-45,0,408)\" style=\"font-family: 'Open Sans', verdana, arial, sans-serif; font-size: 12px; fill: rgb(42, 63, 95); fill-opacity: 1; white-space: pre;\">1500–2000</text></g><g class=\"xtick\"><text text-anchor=\"end\" x=\"0\" y=\"414\" transform=\"translate(383.75,0) rotate(-45,0,408)\" style=\"font-family: 'Open Sans', verdana, arial, sans-serif; font-size: 12px; fill: rgb(42, 63, 95); fill-opacity: 1; white-space: pre;\">2000–3000</text></g><g class=\"xtick\"><text text-anchor=\"end\" x=\"0\" y=\"414\" transform=\"translate(451.25,0) rotate(-45,0,408)\" style=\"font-family: 'Open Sans', verdana, arial, sans-serif; font-size: 12px; fill: rgb(42, 63, 95); fill-opacity: 1; white-space: pre;\">3000–4000</text></g><g class=\"xtick\"><text text-anchor=\"end\" x=\"0\" y=\"414\" transform=\"translate(518.75,0) rotate(-45,0,408)\" style=\"font-family: 'Open Sans', verdana, arial, sans-serif; font-size: 12px; fill: rgb(42, 63, 95); fill-opacity: 1; white-space: pre;\">4000–5000</text></g><g class=\"xtick\"><text text-anchor=\"end\" x=\"0\" y=\"414\" transform=\"translate(586.25,0) rotate(-45,0,408)\" style=\"font-family: 'Open Sans', verdana, arial, sans-serif; font-size: 12px; fill: rgb(42, 63, 95); fill-opacity: 1; white-space: pre;\">5000+</text></g></g><g class=\"yaxislayer-above\"><g class=\"ytick\"><text text-anchor=\"end\" x=\"79\" y=\"4.199999999999999\" transform=\"translate(0,401)\" style=\"font-family: 'Open Sans', verdana, arial, sans-serif; font-size: 12px; fill: rgb(42, 63, 95); fill-opacity: 1; white-space: pre;\">0</text></g><g class=\"ytick\"><text text-anchor=\"end\" x=\"79\" y=\"4.199999999999999\" style=\"font-family: 'Open Sans', verdana, arial, sans-serif; font-size: 12px; fill: rgb(42, 63, 95); fill-opacity: 1; white-space: pre;\" transform=\"translate(0,362.94)\">2k</text></g><g class=\"ytick\"><text text-anchor=\"end\" x=\"79\" y=\"4.199999999999999\" style=\"font-family: 'Open Sans', verdana, arial, sans-serif; font-size: 12px; fill: rgb(42, 63, 95); fill-opacity: 1; white-space: pre;\" transform=\"translate(0,324.89)\">4k</text></g><g class=\"ytick\"><text text-anchor=\"end\" x=\"79\" y=\"4.199999999999999\" style=\"font-family: 'Open Sans', verdana, arial, sans-serif; font-size: 12px; fill: rgb(42, 63, 95); fill-opacity: 1; white-space: pre;\" transform=\"translate(0,286.83000000000004)\">6k</text></g><g class=\"ytick\"><text text-anchor=\"end\" x=\"79\" y=\"4.199999999999999\" style=\"font-family: 'Open Sans', verdana, arial, sans-serif; font-size: 12px; fill: rgb(42, 63, 95); fill-opacity: 1; white-space: pre;\" transform=\"translate(0,248.78)\">8k</text></g><g class=\"ytick\"><text text-anchor=\"end\" x=\"79\" y=\"4.199999999999999\" style=\"font-family: 'Open Sans', verdana, arial, sans-serif; font-size: 12px; fill: rgb(42, 63, 95); fill-opacity: 1; white-space: pre;\" transform=\"translate(0,210.72)\">10k</text></g><g class=\"ytick\"><text text-anchor=\"end\" x=\"79\" y=\"4.199999999999999\" style=\"font-family: 'Open Sans', verdana, arial, sans-serif; font-size: 12px; fill: rgb(42, 63, 95); fill-opacity: 1; white-space: pre;\" transform=\"translate(0,172.67000000000002)\">12k</text></g><g class=\"ytick\"><text text-anchor=\"end\" x=\"79\" y=\"4.199999999999999\" style=\"font-family: 'Open Sans', verdana, arial, sans-serif; font-size: 12px; fill: rgb(42, 63, 95); fill-opacity: 1; white-space: pre;\" transform=\"translate(0,134.61)\">14k</text></g></g><g class=\"overaxes-above\"/></g></g><g class=\"polarlayer\"/><g class=\"smithlayer\"/><g class=\"ternarylayer\"/><g class=\"geolayer\"/><g class=\"funnelarealayer\"/><g class=\"pielayer\"/><g class=\"iciclelayer\"/><g class=\"treemaplayer\"/><g class=\"sunburstlayer\"/><g class=\"glimages\"/><defs id=\"topdefs-7ac355\"><g class=\"clips\"/></defs><g class=\"layer-above\"><g class=\"imagelayer\"/><g class=\"shapelayer\"/></g><g class=\"infolayer\"><g class=\"g-gtitle\"><text class=\"gtitle\" x=\"35\" y=\"50\" text-anchor=\"start\" dy=\"0em\" style=\"opacity: 1; font-family: 'Open Sans', verdana, arial, sans-serif; font-size: 17px; fill: rgb(42, 63, 95); fill-opacity: 1; white-space: pre;\">Interactive Order Value Distribution</text></g><g class=\"g-xtitle\"><text class=\"xtitle\" x=\"350\" y=\"487.221875\" text-anchor=\"middle\" style=\"opacity: 1; font-family: 'Open Sans', verdana, arial, sans-serif; font-size: 14px; fill: rgb(42, 63, 95); fill-opacity: 1; white-space: pre;\">Order Value Range</text></g><g class=\"g-ytitle\"><text class=\"ytitle\" transform=\"rotate(-90,37.240625,250.5)\" x=\"37.240625\" y=\"250.5\" text-anchor=\"middle\" style=\"opacity: 1; font-family: 'Open Sans', verdana, arial, sans-serif; font-size: 14px; fill: rgb(42, 63, 95); fill-opacity: 1; white-space: pre;\">Number of Orders</text></g></g></svg>"
      ]
     },
     "metadata": {},
     "output_type": "display_data"
    }
   ],
   "source": [
    "# Load data\n",
    "query = '''\n",
    "SELECT\n",
    "    invoiceno,\n",
    "    SUM(quantity * unitprice) AS order_value\n",
    "FROM online_retail\n",
    "WHERE quantity > 0 AND unitprice > 0\n",
    "GROUP BY invoiceno\n",
    "'''\n",
    "df_orders = pd.read_sql_query(query, conn)\n",
    "\n",
    "# Create custom bins\n",
    "bins = [0, 500, 1000, 1500, 2000, 3000, 4000, 5000, float('inf')]\n",
    "labels = ['0–500', '500–1000', '1000–1500', '1500–2000', '2000–3000', '3000–4000', '4000–5000', '5000+']\n",
    "df_orders['order_value_group'] = pd.cut(df_orders['order_value'], bins=bins, labels=labels, right=False)\n",
    "\n",
    "# Count number of orders per group\n",
    "order_group_counts = df_orders['order_value_group'].value_counts().sort_index().reset_index()\n",
    "order_group_counts.columns = ['order_value_range', 'num_orders']\n",
    "\n",
    "# Plot with solid color\n",
    "fig = px.bar(\n",
    "    order_group_counts,\n",
    "    x='order_value_range',\n",
    "    y='num_orders',\n",
    "    title='Interactive Order Value Distribution',\n",
    "    labels={'order_value_range': 'Order Value Range', 'num_orders': 'Number of Orders'},\n",
    "    color_discrete_sequence=['indigo'],\n",
    "    height=600,\n",
    "    text='num_orders'\n",
    ")\n",
    "\n",
    "fig.update_layout(\n",
    "    xaxis_tickangle=-45,\n",
    "    plot_bgcolor='white',\n",
    "    paper_bgcolor='white',\n",
    "    xaxis=dict(\n",
    "        showgrid=False,\n",
    "        zeroline=False,\n",
    "        showline=False,\n",
    "        ticks=''\n",
    "    ),\n",
    "    yaxis=dict(\n",
    "        showgrid=False,\n",
    "        zeroline=False,\n",
    "        showline=False,\n",
    "        ticks=''\n",
    "    )\n",
    ")\n",
    "\n",
    "fig.show()"
   ]
  },
  {
   "cell_type": "markdown",
   "id": "30978448-5b9c-4561-b980-dfbe82dc77f1",
   "metadata": {
    "id": "30978448-5b9c-4561-b980-dfbe82dc77f1"
   },
   "source": [
    "## How many unique products has each customer purchased?"
   ]
  },
  {
   "cell_type": "code",
   "execution_count": 3,
   "id": "ba2aff4a-e3d8-4861-b943-9c83dc7eede1",
   "metadata": {
    "colab": {
     "base_uri": "https://localhost:8080/",
     "height": 617
    },
    "id": "ba2aff4a-e3d8-4861-b943-9c83dc7eede1",
    "outputId": "94e64063-0e90-41ba-f027-3631f47f8b32"
   },
   "outputs": [
    {
     "data": {
      "image/svg+xml": [
       "<svg class=\"main-svg\" xmlns=\"http://www.w3.org/2000/svg\" xmlns:xlink=\"http://www.w3.org/1999/xlink\" width=\"700\" height=\"500\" style=\"\" viewBox=\"0 0 700 500\"><rect x=\"0\" y=\"0\" width=\"700\" height=\"500\" style=\"fill: rgb(255, 255, 255); fill-opacity: 1;\"/><defs id=\"defs-cf1ef7\"><g class=\"clips\"><clipPath id=\"clipcf1ef7xyplot\" class=\"plotclip\"><rect width=\"540\" height=\"317\"/></clipPath><clipPath class=\"axesclip\" id=\"clipcf1ef7x\"><rect x=\"80\" y=\"0\" width=\"540\" height=\"500\"/></clipPath><clipPath class=\"axesclip\" id=\"clipcf1ef7y\"><rect x=\"0\" y=\"100\" width=\"700\" height=\"317\"/></clipPath><clipPath class=\"axesclip\" id=\"clipcf1ef7xy\"><rect x=\"80\" y=\"100\" width=\"540\" height=\"317\"/></clipPath></g><g class=\"gradients\"/><g class=\"patterns\"/></defs><g class=\"bglayer\"/><g class=\"layer-below\"><g class=\"imagelayer\"/><g class=\"shapelayer\"/></g><g class=\"cartesianlayer\"><g class=\"subplot xy\"><g class=\"layer-subplot\"><g class=\"shapelayer\"/><g class=\"imagelayer\"/></g><g class=\"minor-gridlayer\"><g class=\"x\"/><g class=\"y\"/></g><g class=\"gridlayer\"><g class=\"x\"/><g class=\"y\"/></g><g class=\"zerolinelayer\"/><g class=\"layer-between\"><g class=\"shapelayer\"/><g class=\"imagelayer\"/></g><path class=\"xlines-below\"/><path class=\"ylines-below\"/><g class=\"overlines-below\"/><g class=\"xaxislayer-below\"/><g class=\"yaxislayer-below\"/><g class=\"overaxes-below\"/><g class=\"overplot\"><g class=\"xy\" transform=\"translate(80,100)\" clip-path=\"url(#clipcf1ef7xyplot)\"><g class=\"barlayer mlayer\"><g class=\"trace bars\" style=\"opacity: 1;\"><g class=\"points\"><g class=\"point\"><path d=\"M6.75,317V72.22H60.75V317Z\" style=\"vector-effect: none; opacity: 1; stroke-width: 0.5px; fill: rgb(75, 0, 130); fill-opacity: 1; stroke: rgb(229, 236, 246); stroke-opacity: 1;\"/><text class=\"bartext bartext-inside\" text-anchor=\"middle\" data-notex=\"1\" x=\"0\" y=\"0\" style=\"font-family: 'Open Sans', verdana, arial, sans-serif; font-size: 12px; fill: rgb(255, 255, 255); fill-opacity: 1; white-space: pre;\" transform=\"translate(33.75,87.22)\">634</text></g><g class=\"point\"><path d=\"M74.25,317V49.83H128.25V317Z\" style=\"vector-effect: none; opacity: 1; stroke-width: 0.5px; fill: rgb(75, 0, 130); fill-opacity: 1; stroke: rgb(229, 236, 246); stroke-opacity: 1;\"/><text class=\"bartext bartext-inside\" text-anchor=\"middle\" data-notex=\"1\" x=\"0\" y=\"0\" style=\"font-family: 'Open Sans', verdana, arial, sans-serif; font-size: 12px; fill: rgb(255, 255, 255); fill-opacity: 1; white-space: pre;\" transform=\"translate(101.25,64.83)\">692</text></g><g class=\"point\"><path d=\"M141.75,317V89.98H195.75V317Z\" style=\"vector-effect: none; opacity: 1; stroke-width: 0.5px; fill: rgb(75, 0, 130); fill-opacity: 1; stroke: rgb(229, 236, 246); stroke-opacity: 1;\"/><text class=\"bartext bartext-inside\" text-anchor=\"middle\" data-notex=\"1\" x=\"0\" y=\"0\" style=\"font-family: 'Open Sans', verdana, arial, sans-serif; font-size: 12px; fill: rgb(255, 255, 255); fill-opacity: 1; white-space: pre;\" transform=\"translate(168.75,104.98)\">588</text></g><g class=\"point\"><path d=\"M209.25,317V157.16H263.25V317Z\" style=\"vector-effect: none; opacity: 1; stroke-width: 0.5px; fill: rgb(75, 0, 130); fill-opacity: 1; stroke: rgb(229, 236, 246); stroke-opacity: 1;\"/><text class=\"bartext bartext-inside\" text-anchor=\"middle\" data-notex=\"1\" x=\"0\" y=\"0\" style=\"font-family: 'Open Sans', verdana, arial, sans-serif; font-size: 12px; fill: rgb(255, 255, 255); fill-opacity: 1; white-space: pre;\" transform=\"translate(236.25,172.16)\">414</text></g><g class=\"point\"><path d=\"M276.75,317V199.24H330.75V317Z\" style=\"vector-effect: none; opacity: 1; stroke-width: 0.5px; fill: rgb(75, 0, 130); fill-opacity: 1; stroke: rgb(229, 236, 246); stroke-opacity: 1;\"/><text class=\"bartext bartext-inside\" text-anchor=\"middle\" data-notex=\"1\" x=\"0\" y=\"0\" style=\"font-family: 'Open Sans', verdana, arial, sans-serif; font-size: 12px; fill: rgb(255, 255, 255); fill-opacity: 1; white-space: pre;\" transform=\"translate(303.75,214.24)\">305</text></g><g class=\"point\"><path d=\"M344.25,317V96.16H398.25V317Z\" style=\"vector-effect: none; opacity: 1; stroke-width: 0.5px; fill: rgb(75, 0, 130); fill-opacity: 1; stroke: rgb(229, 236, 246); stroke-opacity: 1;\"/><text class=\"bartext bartext-inside\" text-anchor=\"middle\" data-notex=\"1\" x=\"0\" y=\"0\" style=\"font-family: 'Open Sans', verdana, arial, sans-serif; font-size: 12px; fill: rgb(255, 255, 255); fill-opacity: 1; white-space: pre;\" transform=\"translate(371.25,111.16)\">572</text></g><g class=\"point\"><path d=\"M411.75,317V180.71H465.75V317Z\" style=\"vector-effect: none; opacity: 1; stroke-width: 0.5px; fill: rgb(75, 0, 130); fill-opacity: 1; stroke: rgb(229, 236, 246); stroke-opacity: 1;\"/><text class=\"bartext bartext-inside\" text-anchor=\"middle\" data-notex=\"1\" x=\"0\" y=\"0\" style=\"font-family: 'Open Sans', verdana, arial, sans-serif; font-size: 12px; fill: rgb(255, 255, 255); fill-opacity: 1; white-space: pre;\" transform=\"translate(438.75,195.71)\">353</text></g><g class=\"point\"><path d=\"M479.25,317V15.85H533.25V317Z\" style=\"vector-effect: none; opacity: 1; stroke-width: 0.5px; fill: rgb(75, 0, 130); fill-opacity: 1; stroke: rgb(229, 236, 246); stroke-opacity: 1;\"/><text class=\"bartext bartext-inside\" text-anchor=\"middle\" data-notex=\"1\" x=\"0\" y=\"0\" style=\"font-family: 'Open Sans', verdana, arial, sans-serif; font-size: 12px; fill: rgb(255, 255, 255); fill-opacity: 1; white-space: pre;\" transform=\"translate(506.25,30.85)\">780</text></g></g></g></g></g></g><g class=\"zerolinelayer-above\"/><path class=\"xlines-above crisp\" d=\"M0,0\" style=\"fill: none;\"/><path class=\"ylines-above crisp\" d=\"M0,0\" style=\"fill: none;\"/><g class=\"overlines-above\"/><g class=\"xaxislayer-above\"><g class=\"xtick\"><text text-anchor=\"end\" x=\"0\" y=\"430\" transform=\"translate(113.75,0) rotate(-45,0,424)\" style=\"font-family: 'Open Sans', verdana, arial, sans-serif; font-size: 12px; fill: rgb(42, 63, 95); fill-opacity: 1; white-space: pre;\">0–10</text></g><g class=\"xtick\"><text text-anchor=\"end\" x=\"0\" y=\"430\" transform=\"translate(181.25,0) rotate(-45,0,424)\" style=\"font-family: 'Open Sans', verdana, arial, sans-serif; font-size: 12px; fill: rgb(42, 63, 95); fill-opacity: 1; white-space: pre;\">10–20</text></g><g class=\"xtick\"><text text-anchor=\"end\" x=\"0\" y=\"430\" transform=\"translate(248.75,0) rotate(-45,0,424)\" style=\"font-family: 'Open Sans', verdana, arial, sans-serif; font-size: 12px; fill: rgb(42, 63, 95); fill-opacity: 1; white-space: pre;\">20–30</text></g><g class=\"xtick\"><text text-anchor=\"end\" x=\"0\" y=\"430\" transform=\"translate(316.25,0) rotate(-45,0,424)\" style=\"font-family: 'Open Sans', verdana, arial, sans-serif; font-size: 12px; fill: rgb(42, 63, 95); fill-opacity: 1; white-space: pre;\">30–40</text></g><g class=\"xtick\"><text text-anchor=\"end\" x=\"0\" y=\"430\" transform=\"translate(383.75,0) rotate(-45,0,424)\" style=\"font-family: 'Open Sans', verdana, arial, sans-serif; font-size: 12px; fill: rgb(42, 63, 95); fill-opacity: 1; white-space: pre;\">40–50</text></g><g class=\"xtick\"><text text-anchor=\"end\" x=\"0\" y=\"430\" transform=\"translate(451.25,0) rotate(-45,0,424)\" style=\"font-family: 'Open Sans', verdana, arial, sans-serif; font-size: 12px; fill: rgb(42, 63, 95); fill-opacity: 1; white-space: pre;\">50–75</text></g><g class=\"xtick\"><text text-anchor=\"end\" x=\"0\" y=\"430\" transform=\"translate(518.75,0) rotate(-45,0,424)\" style=\"font-family: 'Open Sans', verdana, arial, sans-serif; font-size: 12px; fill: rgb(42, 63, 95); fill-opacity: 1; white-space: pre;\">75–100</text></g><g class=\"xtick\"><text text-anchor=\"end\" x=\"0\" y=\"430\" transform=\"translate(586.25,0) rotate(-45,0,424)\" style=\"font-family: 'Open Sans', verdana, arial, sans-serif; font-size: 12px; fill: rgb(42, 63, 95); fill-opacity: 1; white-space: pre;\">100+</text></g></g><g class=\"yaxislayer-above\"><g class=\"ytick\"><text text-anchor=\"end\" x=\"79\" y=\"4.199999999999999\" transform=\"translate(0,417)\" style=\"font-family: 'Open Sans', verdana, arial, sans-serif; font-size: 12px; fill: rgb(42, 63, 95); fill-opacity: 1; white-space: pre;\">0</text></g><g class=\"ytick\"><text text-anchor=\"end\" x=\"79\" y=\"4.199999999999999\" style=\"font-family: 'Open Sans', verdana, arial, sans-serif; font-size: 12px; fill: rgb(42, 63, 95); fill-opacity: 1; white-space: pre;\" transform=\"translate(0,378.39)\">100</text></g><g class=\"ytick\"><text text-anchor=\"end\" x=\"79\" y=\"4.199999999999999\" style=\"font-family: 'Open Sans', verdana, arial, sans-serif; font-size: 12px; fill: rgb(42, 63, 95); fill-opacity: 1; white-space: pre;\" transform=\"translate(0,339.78)\">200</text></g><g class=\"ytick\"><text text-anchor=\"end\" x=\"79\" y=\"4.199999999999999\" style=\"font-family: 'Open Sans', verdana, arial, sans-serif; font-size: 12px; fill: rgb(42, 63, 95); fill-opacity: 1; white-space: pre;\" transform=\"translate(0,301.16999999999996)\">300</text></g><g class=\"ytick\"><text text-anchor=\"end\" x=\"79\" y=\"4.199999999999999\" style=\"font-family: 'Open Sans', verdana, arial, sans-serif; font-size: 12px; fill: rgb(42, 63, 95); fill-opacity: 1; white-space: pre;\" transform=\"translate(0,262.56)\">400</text></g><g class=\"ytick\"><text text-anchor=\"end\" x=\"79\" y=\"4.199999999999999\" style=\"font-family: 'Open Sans', verdana, arial, sans-serif; font-size: 12px; fill: rgb(42, 63, 95); fill-opacity: 1; white-space: pre;\" transform=\"translate(0,223.95999999999998)\">500</text></g><g class=\"ytick\"><text text-anchor=\"end\" x=\"79\" y=\"4.199999999999999\" style=\"font-family: 'Open Sans', verdana, arial, sans-serif; font-size: 12px; fill: rgb(42, 63, 95); fill-opacity: 1; white-space: pre;\" transform=\"translate(0,185.35)\">600</text></g><g class=\"ytick\"><text text-anchor=\"end\" x=\"79\" y=\"4.199999999999999\" style=\"font-family: 'Open Sans', verdana, arial, sans-serif; font-size: 12px; fill: rgb(42, 63, 95); fill-opacity: 1; white-space: pre;\" transform=\"translate(0,146.74)\">700</text></g><g class=\"ytick\"><text text-anchor=\"end\" x=\"79\" y=\"4.199999999999999\" style=\"font-family: 'Open Sans', verdana, arial, sans-serif; font-size: 12px; fill: rgb(42, 63, 95); fill-opacity: 1; white-space: pre;\" transform=\"translate(0,108.13)\">800</text></g></g><g class=\"overaxes-above\"/></g></g><g class=\"polarlayer\"/><g class=\"smithlayer\"/><g class=\"ternarylayer\"/><g class=\"geolayer\"/><g class=\"funnelarealayer\"/><g class=\"pielayer\"/><g class=\"iciclelayer\"/><g class=\"treemaplayer\"/><g class=\"sunburstlayer\"/><g class=\"glimages\"/><defs id=\"topdefs-cf1ef7\"><g class=\"clips\"/></defs><g class=\"layer-above\"><g class=\"imagelayer\"/><g class=\"shapelayer\"/></g><g class=\"infolayer\"><g class=\"g-gtitle\"><text class=\"gtitle\" x=\"35\" y=\"50\" text-anchor=\"start\" dy=\"0em\" style=\"opacity: 1; font-family: 'Open Sans', verdana, arial, sans-serif; font-size: 17px; fill: rgb(42, 63, 95); fill-opacity: 1; white-space: pre;\">Number of Unique Products Purchased by Customers</text></g><g class=\"g-xtitle\"><text class=\"xtitle\" x=\"350\" y=\"487.036328125\" text-anchor=\"middle\" style=\"opacity: 1; font-family: 'Open Sans', verdana, arial, sans-serif; font-size: 14px; fill: rgb(42, 63, 95); fill-opacity: 1; white-space: pre;\">Unique Product Count Rage</text></g><g class=\"g-ytitle\"><text class=\"ytitle\" transform=\"rotate(-90,36.709375,258.5)\" x=\"36.709375\" y=\"258.5\" text-anchor=\"middle\" style=\"opacity: 1; font-family: 'Open Sans', verdana, arial, sans-serif; font-size: 14px; fill: rgb(42, 63, 95); fill-opacity: 1; white-space: pre;\">Number of Customers</text></g></g></svg>"
      ]
     },
     "metadata": {},
     "output_type": "display_data"
    }
   ],
   "source": [
    "# Load data: count of unique products per customer\n",
    "query = '''\n",
    "SELECT\n",
    "    customerid,\n",
    "    COUNT(DISTINCT stockcode) AS unique_products\n",
    "FROM online_retail\n",
    "WHERE quantity > 0 AND unitprice > 0 AND customerid IS NOT NULL\n",
    "GROUP BY customerid\n",
    "'''\n",
    "df_customers = pd.read_sql_query(query, conn)\n",
    "\n",
    "# Create bins for number of unique products\n",
    "bins = [0, 10, 20, 30, 40, 50, 75, 100, float('inf')]\n",
    "labels = ['0–10', '10–20', '20–30', '30–40', '40–50', '50–75', '75–100', '100+']\n",
    "df_customers['product_range'] = pd.cut(df_customers['unique_products'], bins=bins, labels=labels, right=False)\n",
    "\n",
    "# Count customers in each bin\n",
    "customer_bins = df_customers['product_range'].value_counts().sort_index().reset_index()\n",
    "customer_bins.columns = ['product_range', 'num_customers']\n",
    "\n",
    "# Plot\n",
    "fig = px.bar(\n",
    "    customer_bins,\n",
    "    x='product_range',\n",
    "    y='num_customers',\n",
    "    title='Number of Unique Products Purchased by Customers',\n",
    "    labels={'product_range': 'Unique Product Count Rage', 'num_customers': 'Number of Customers'},\n",
    "    color_discrete_sequence=['indigo'],\n",
    "    height=600,\n",
    "    text='num_customers'\n",
    ")\n",
    "\n",
    "fig.update_layout(\n",
    "    xaxis_tickangle=-45,\n",
    "    plot_bgcolor='white',\n",
    "    paper_bgcolor='white',\n",
    "    xaxis=dict(showgrid=False, zeroline=False, showline=False, ticks=''),\n",
    "    yaxis=dict(showgrid=False, zeroline=False, showline=False, ticks='')\n",
    ")\n",
    "\n",
    "fig.show()"
   ]
  },
  {
   "cell_type": "markdown",
   "id": "96f5fee8-f38b-4762-a800-b17b196f8a7d",
   "metadata": {
    "id": "96f5fee8-f38b-4762-a800-b17b196f8a7d"
   },
   "source": [
    "## How many customers have only made a single purchase from the company?"
   ]
  },
  {
   "cell_type": "code",
   "execution_count": 4,
   "id": "3956b996-9af2-48cd-9ac8-c4b2c4158c26",
   "metadata": {
    "colab": {
     "base_uri": "https://localhost:8080/",
     "height": 517
    },
    "id": "3956b996-9af2-48cd-9ac8-c4b2c4158c26",
    "outputId": "2777a4f8-772a-4b0a-d1cc-52c46b0480c2"
   },
   "outputs": [
    {
     "data": {
      "image/svg+xml": [
       "<svg class=\"main-svg\" xmlns=\"http://www.w3.org/2000/svg\" xmlns:xlink=\"http://www.w3.org/1999/xlink\" width=\"700\" height=\"500\" style=\"\" viewBox=\"0 0 700 500\"><rect x=\"0\" y=\"0\" width=\"700\" height=\"500\" style=\"fill: rgb(255, 255, 255); fill-opacity: 1;\"/><defs id=\"defs-9f3de6\"><g class=\"clips\"/><g class=\"gradients\"/><g class=\"patterns\"/></defs><g class=\"bglayer\"/><g class=\"layer-below\"><g class=\"imagelayer\"/><g class=\"shapelayer\"/></g><g class=\"cartesianlayer\"/><g class=\"polarlayer\"/><g class=\"smithlayer\"/><g class=\"ternarylayer\"/><g class=\"geolayer\"/><g class=\"funnelarealayer\"/><g class=\"pielayer\"><g class=\"trace\" stroke-linejoin=\"round\" style=\"opacity: 1;\"><g class=\"slice\"><path class=\"surface\" d=\"M301,260l0,-160a160,160 0 1 1 -132.8013193386783,249.24017919024138Z\" style=\"pointer-events: none; fill: rgb(75, 0, 130); fill-opacity: 1; stroke-width: 0; stroke: rgb(68, 68, 68); stroke-opacity: 1;\"/><g class=\"slicetext\"><text data-notex=\"1\" class=\"slicetext\" transform=\"translate(371.6031414584707,294.3192917423077)\" text-anchor=\"middle\" x=\"0\" y=\"0\" style=\"font-family: 'Open Sans', verdana, arial, sans-serif; font-size: 12px; fill: rgb(255, 255, 255); fill-opacity: 1; white-space: pre;\"><tspan class=\"line\" dy=\"0em\" x=\"0\" y=\"0\">Multiple Purchases</tspan><tspan class=\"line\" dy=\"1.3em\" x=\"0\" y=\"0\">65.6%</tspan></text></g></g><g class=\"slice\"><path class=\"surface\" d=\"M301,260l-132.8013193386783,89.24017919024139a160,160 0 0 1 132.8013193386783,-249.2401791902414Z\" style=\"pointer-events: none; fill: rgb(147, 112, 219); fill-opacity: 1; stroke-width: 0; stroke: rgb(68, 68, 68); stroke-opacity: 1;\"/><g class=\"slicetext\"><text data-notex=\"1\" class=\"slicetext\" transform=\"translate(225.9915870017203,216.73386147324868)\" text-anchor=\"middle\" x=\"0\" y=\"0\" style=\"font-family: 'Open Sans', verdana, arial, sans-serif; font-size: 12px; fill: rgb(68, 68, 68); fill-opacity: 1; white-space: pre;\"><tspan class=\"line\" dy=\"0em\" x=\"0\" y=\"0\">Single Purchase</tspan><tspan class=\"line\" dy=\"1.3em\" x=\"0\" y=\"0\">34.4%</tspan></text></g></g></g></g><g class=\"iciclelayer\"/><g class=\"treemaplayer\"/><g class=\"sunburstlayer\"/><g class=\"glimages\"/><defs id=\"topdefs-9f3de6\"><g class=\"clips\"/><clipPath id=\"legend9f3de6\"><rect width=\"157\" height=\"48\" x=\"0\" y=\"0\"/></clipPath></defs><g class=\"layer-above\"><g class=\"imagelayer\"/><g class=\"shapelayer\"/></g><g class=\"infolayer\"><g class=\"legend\" pointer-events=\"all\" transform=\"translate(530.84,100)\"><rect class=\"bg\" shape-rendering=\"crispEdges\" style=\"stroke: rgb(68, 68, 68); stroke-opacity: 1; fill: rgb(255, 255, 255); fill-opacity: 1; stroke-width: 0px;\" width=\"157\" height=\"48\" x=\"0\" y=\"0\"/><g class=\"scrollbox\" transform=\"\" clip-path=\"url(#legend9f3de6)\"><g class=\"groups\"><g class=\"traces\" transform=\"translate(0,14.5)\" style=\"opacity: 1;\"><text class=\"legendtext\" text-anchor=\"start\" x=\"40\" y=\"4.680000000000001\" style=\"font-family: 'Open Sans', verdana, arial, sans-serif; font-size: 12px; fill: rgb(42, 63, 95); fill-opacity: 1; white-space: pre;\">Multiple Purchases</text><g class=\"layers\" style=\"opacity: 1;\"><g class=\"legendfill\"/><g class=\"legendlines\"/><g class=\"legendsymbols\"><g class=\"legendpoints\"><path class=\"legendpie\" d=\"M6,6H-6V-6H6Z\" transform=\"translate(20,0)\" style=\"fill: rgb(75, 0, 130); fill-opacity: 1; stroke-width: 0; stroke: rgb(68, 68, 68); stroke-opacity: 1;\"/></g></g></g><rect class=\"legendtoggle\" x=\"0\" y=\"-9.5\" width=\"151.828125\" height=\"19\" style=\"fill: rgb(0, 0, 0); fill-opacity: 0;\"/></g><g class=\"traces\" transform=\"translate(0,33.5)\" style=\"opacity: 1;\"><text class=\"legendtext\" text-anchor=\"start\" x=\"40\" y=\"4.680000000000001\" style=\"font-family: 'Open Sans', verdana, arial, sans-serif; font-size: 12px; fill: rgb(42, 63, 95); fill-opacity: 1; white-space: pre;\">Single Purchase</text><g class=\"layers\" style=\"opacity: 1;\"><g class=\"legendfill\"/><g class=\"legendlines\"/><g class=\"legendsymbols\"><g class=\"legendpoints\"><path class=\"legendpie\" d=\"M6,6H-6V-6H6Z\" transform=\"translate(20,0)\" style=\"fill: rgb(147, 112, 219); fill-opacity: 1; stroke-width: 0; stroke: rgb(68, 68, 68); stroke-opacity: 1;\"/></g></g></g><rect class=\"legendtoggle\" x=\"0\" y=\"-9.5\" width=\"151.828125\" height=\"19\" style=\"fill: rgb(0, 0, 0); fill-opacity: 0;\"/></g></g></g><rect class=\"scrollbar\" rx=\"20\" ry=\"3\" width=\"0\" height=\"0\" style=\"fill: rgb(128, 139, 164); fill-opacity: 1;\" x=\"0\" y=\"0\"/></g><g class=\"g-gtitle\"><text class=\"gtitle\" x=\"35\" y=\"50\" text-anchor=\"start\" dy=\"0em\" style=\"opacity: 1; font-family: 'Open Sans', verdana, arial, sans-serif; font-size: 17px; fill: rgb(42, 63, 95); fill-opacity: 1; white-space: pre;\">Proportion of Customers by Number of Purchases</text></g></g></svg>"
      ]
     },
     "metadata": {},
     "output_type": "display_data"
    }
   ],
   "source": [
    "# Load data: number of orders per customer\n",
    "query = '''\n",
    "SELECT\n",
    "    customerid,\n",
    "    COUNT(DISTINCT invoiceno) AS num_orders\n",
    "FROM online_retail\n",
    "WHERE quantity > 0 AND unitprice > 0 AND customerid IS NOT NULL\n",
    "GROUP BY customerid\n",
    "'''\n",
    "df_orders_per_customer = pd.read_sql_query(query, conn)\n",
    "\n",
    "# Count the number of customers - using df_orders_per_customer instead of customer_orders\n",
    "total_customers = df_orders_per_customer['customerid'].nunique()  # Changed from customer_orders to df_orders_per_customer\n",
    "single_order_customers = df_orders_per_customer[df_orders_per_customer['num_orders'] == 1]['customerid'].nunique()  # Changed variable name\n",
    "multiple_order_customers = total_customers - single_order_customers\n",
    "\n",
    "# Create DataFrame for visualization\n",
    "summary_df = pd.DataFrame({\n",
    "    'Customer Type': ['Single Purchase', 'Multiple Purchases'],\n",
    "    'Count': [single_order_customers, multiple_order_customers]\n",
    "})\n",
    "\n",
    "# Create pie chart\n",
    "fig = px.pie(\n",
    "    summary_df,\n",
    "    names='Customer Type',\n",
    "    values='Count',\n",
    "    title='Proportion of Customers by Number of Purchases',\n",
    "    color_discrete_sequence=['#4B0082', '#9370DB']\n",
    ")\n",
    "\n",
    "fig.update_traces(textposition='inside', textinfo='percent+label')\n",
    "fig.update_layout(height=500, showlegend=True)\n",
    "\n",
    "fig.show()"
   ]
  },
  {
   "cell_type": "markdown",
   "id": "ad878cc6-8da3-41c3-b500-c450fb224fde",
   "metadata": {
    "id": "ad878cc6-8da3-41c3-b500-c450fb224fde"
   },
   "source": [
    "## Which products are most commonly purchased together by customers in the dataset?"
   ]
  },
  {
   "cell_type": "code",
   "execution_count": 5,
   "id": "c6aaadf5-e942-421f-b5e0-40ccba45e950",
   "metadata": {
    "colab": {
     "base_uri": "https://localhost:8080/",
     "height": 617
    },
    "id": "c6aaadf5-e942-421f-b5e0-40ccba45e950",
    "outputId": "913d4918-e357-4b64-994f-c2f5a1147b15"
   },
   "outputs": [
    {
     "data": {
      "image/svg+xml": [
       "<svg class=\"main-svg\" xmlns=\"http://www.w3.org/2000/svg\" xmlns:xlink=\"http://www.w3.org/1999/xlink\" width=\"700\" height=\"500\" style=\"\" viewBox=\"0 0 700 500\"><rect x=\"0\" y=\"0\" width=\"700\" height=\"500\" style=\"fill: rgb(255, 255, 255); fill-opacity: 1;\"/><defs id=\"defs-382b2b\"><g class=\"clips\"><clipPath id=\"clip382b2bxyplot\" class=\"plotclip\"><rect width=\"112\" height=\"397\"/></clipPath><clipPath class=\"axesclip\" id=\"clip382b2bx\"><rect x=\"538\" y=\"0\" width=\"112\" height=\"500\"/></clipPath><clipPath class=\"axesclip\" id=\"clip382b2by\"><rect x=\"0\" y=\"50\" width=\"700\" height=\"397\"/></clipPath><clipPath class=\"axesclip\" id=\"clip382b2bxy\"><rect x=\"538\" y=\"50\" width=\"112\" height=\"397\"/></clipPath></g><g class=\"gradients\"/><g class=\"patterns\"/></defs><g class=\"bglayer\"/><g class=\"layer-below\"><g class=\"imagelayer\"/><g class=\"shapelayer\"/></g><g class=\"cartesianlayer\"><g class=\"subplot xy\"><g class=\"layer-subplot\"><g class=\"shapelayer\"/><g class=\"imagelayer\"/></g><g class=\"minor-gridlayer\"><g class=\"x\"/><g class=\"y\"/></g><g class=\"gridlayer\"><g class=\"x\"/><g class=\"y\"/></g><g class=\"zerolinelayer\"><path class=\"xzl zl crisp\" transform=\"translate(538,0)\" d=\"M0,50v397\" style=\"stroke: rgb(255, 255, 255); stroke-opacity: 1; stroke-width: 2px;\"/></g><g class=\"layer-between\"><g class=\"shapelayer\"/><g class=\"imagelayer\"/></g><path class=\"xlines-below\"/><path class=\"ylines-below\"/><g class=\"overlines-below\"/><g class=\"xaxislayer-below\"/><g class=\"yaxislayer-below\"/><g class=\"overaxes-below\"/><g class=\"overplot\"><g class=\"xy\" transform=\"translate(538,50)\" clip-path=\"url(#clip382b2bxyplot)\"><g class=\"barlayer mlayer\"><g class=\"trace bars\" style=\"opacity: 1;\"><g class=\"points\"><g class=\"point\"><path d=\"M0,35.73V3.97H93.33V35.73Z\" style=\"vector-effect: none; opacity: 1; stroke-width: 0.5px; fill: rgb(75, 0, 130); fill-opacity: 1; stroke: rgb(229, 236, 246); stroke-opacity: 1;\"/><text class=\"bartext bartext-outside\" text-anchor=\"middle\" data-notex=\"1\" x=\"0\" y=\"0\" style=\"font-family: 'Open Sans', verdana, arial, sans-serif; font-size: 12px; fill: rgb(42, 63, 95); fill-opacity: 1; white-space: pre;\" transform=\"translate(107.7753125,24.349999999999998)\">712</text></g><g class=\"point\"><path d=\"M0,75.43V43.67H84.55V75.43Z\" style=\"vector-effect: none; opacity: 1; stroke-width: 0.5px; fill: rgb(75, 0, 130); fill-opacity: 1; stroke: rgb(229, 236, 246); stroke-opacity: 1;\"/><text class=\"bartext bartext-outside\" text-anchor=\"middle\" data-notex=\"1\" x=\"0\" y=\"0\" style=\"font-family: 'Open Sans', verdana, arial, sans-serif; font-size: 12px; fill: rgb(42, 63, 95); fill-opacity: 1; white-space: pre;\" transform=\"translate(98.9953125,64.05000000000001)\">645</text></g><g class=\"point\"><path d=\"M0,115.13V83.37H82.58V115.13Z\" style=\"vector-effect: none; opacity: 1; stroke-width: 0.5px; fill: rgb(75, 0, 130); fill-opacity: 1; stroke: rgb(229, 236, 246); stroke-opacity: 1;\"/><text class=\"bartext bartext-outside\" text-anchor=\"middle\" data-notex=\"1\" x=\"0\" y=\"0\" style=\"font-family: 'Open Sans', verdana, arial, sans-serif; font-size: 12px; fill: rgb(42, 63, 95); fill-opacity: 1; white-space: pre;\" transform=\"translate(97.0253125,103.75)\">630</text></g><g class=\"point\"><path d=\"M0,154.83V123.07H74.33V154.83Z\" style=\"vector-effect: none; opacity: 1; stroke-width: 0.5px; fill: rgb(75, 0, 130); fill-opacity: 1; stroke: rgb(229, 236, 246); stroke-opacity: 1;\"/><text class=\"bartext bartext-outside\" text-anchor=\"middle\" data-notex=\"1\" x=\"0\" y=\"0\" style=\"font-family: 'Open Sans', verdana, arial, sans-serif; font-size: 12px; fill: rgb(42, 63, 95); fill-opacity: 1; white-space: pre;\" transform=\"translate(88.7753125,143.45)\">567</text></g><g class=\"point\"><path d=\"M0,234.23V202.47H71.97V234.23Z\" style=\"vector-effect: none; opacity: 1; stroke-width: 0.5px; fill: rgb(75, 0, 130); fill-opacity: 1; stroke: rgb(229, 236, 246); stroke-opacity: 1;\"/><text class=\"bartext bartext-outside\" text-anchor=\"middle\" data-notex=\"1\" x=\"0\" y=\"0\" style=\"font-family: 'Open Sans', verdana, arial, sans-serif; font-size: 12px; fill: rgb(42, 63, 95); fill-opacity: 1; white-space: pre;\" transform=\"translate(86.4153125,222.85)\">549</text></g><g class=\"point\"><path d=\"M0,194.53V162.77H71.97V194.53Z\" style=\"vector-effect: none; opacity: 1; stroke-width: 0.5px; fill: rgb(75, 0, 130); fill-opacity: 1; stroke: rgb(229, 236, 246); stroke-opacity: 1;\"/><text class=\"bartext bartext-outside\" text-anchor=\"middle\" data-notex=\"1\" x=\"0\" y=\"0\" style=\"font-family: 'Open Sans', verdana, arial, sans-serif; font-size: 12px; fill: rgb(42, 63, 95); fill-opacity: 1; white-space: pre;\" transform=\"translate(86.4153125,183.15)\">549</text></g><g class=\"point\"><path d=\"M0,273.93V242.17H70V273.93Z\" style=\"vector-effect: none; opacity: 1; stroke-width: 0.5px; fill: rgb(75, 0, 130); fill-opacity: 1; stroke: rgb(229, 236, 246); stroke-opacity: 1;\"/><text class=\"bartext bartext-outside\" text-anchor=\"middle\" data-notex=\"1\" x=\"0\" y=\"0\" style=\"font-family: 'Open Sans', verdana, arial, sans-serif; font-size: 12px; fill: rgb(42, 63, 95); fill-opacity: 1; white-space: pre;\" transform=\"translate(84.4453125,262.55)\">534</text></g><g class=\"point\"><path d=\"M0,313.63V281.87H68.82V313.63Z\" style=\"vector-effect: none; opacity: 1; stroke-width: 0.5px; fill: rgb(75, 0, 130); fill-opacity: 1; stroke: rgb(229, 236, 246); stroke-opacity: 1;\"/><text class=\"bartext bartext-outside\" text-anchor=\"middle\" data-notex=\"1\" x=\"0\" y=\"0\" style=\"font-family: 'Open Sans', verdana, arial, sans-serif; font-size: 12px; fill: rgb(42, 63, 95); fill-opacity: 1; white-space: pre;\" transform=\"translate(83.2653125,302.25)\">525</text></g><g class=\"point\"><path d=\"M0,353.33V321.57H67.25V353.33Z\" style=\"vector-effect: none; opacity: 1; stroke-width: 0.5px; fill: rgb(75, 0, 130); fill-opacity: 1; stroke: rgb(229, 236, 246); stroke-opacity: 1;\"/><text class=\"bartext bartext-outside\" text-anchor=\"middle\" data-notex=\"1\" x=\"0\" y=\"0\" style=\"font-family: 'Open Sans', verdana, arial, sans-serif; font-size: 12px; fill: rgb(42, 63, 95); fill-opacity: 1; white-space: pre;\" transform=\"translate(81.6953125,341.95)\">513</text></g><g class=\"point\"><path d=\"M0,393.03V361.27H66.07V393.03Z\" style=\"vector-effect: none; opacity: 1; stroke-width: 0.5px; fill: rgb(75, 0, 130); fill-opacity: 1; stroke: rgb(229, 236, 246); stroke-opacity: 1;\"/><text class=\"bartext bartext-outside\" text-anchor=\"middle\" data-notex=\"1\" x=\"0\" y=\"0\" style=\"font-family: 'Open Sans', verdana, arial, sans-serif; font-size: 12px; fill: rgb(42, 63, 95); fill-opacity: 1; white-space: pre;\" transform=\"translate(80.5153125,381.65)\">504</text></g></g></g></g></g></g><g class=\"zerolinelayer-above\"/><path class=\"xlines-above crisp\" d=\"M0,0\" style=\"fill: none;\"/><path class=\"ylines-above crisp\" d=\"M0,0\" style=\"fill: none;\"/><g class=\"overlines-above\"/><g class=\"xaxislayer-above\"><g class=\"xtick\"><text text-anchor=\"middle\" x=\"0\" y=\"460\" transform=\"translate(538,0)\" style=\"font-family: 'Open Sans', verdana, arial, sans-serif; font-size: 12px; fill: rgb(42, 63, 95); fill-opacity: 1; white-space: pre;\">0</text></g><g class=\"xtick\"><text text-anchor=\"middle\" x=\"0\" y=\"460\" style=\"font-family: 'Open Sans', verdana, arial, sans-serif; font-size: 12px; fill: rgb(42, 63, 95); fill-opacity: 1; white-space: pre;\" transform=\"translate(564.22,0)\">200</text></g><g class=\"xtick\"><text text-anchor=\"middle\" x=\"0\" y=\"460\" style=\"font-family: 'Open Sans', verdana, arial, sans-serif; font-size: 12px; fill: rgb(42, 63, 95); fill-opacity: 1; white-space: pre;\" transform=\"translate(590.43,0)\">400</text></g><g class=\"xtick\"><text text-anchor=\"middle\" x=\"0\" y=\"460\" style=\"font-family: 'Open Sans', verdana, arial, sans-serif; font-size: 12px; fill: rgb(42, 63, 95); fill-opacity: 1; white-space: pre;\" transform=\"translate(616.65,0)\">600</text></g><g class=\"xtick\"><text text-anchor=\"middle\" x=\"0\" y=\"460\" style=\"font-family: 'Open Sans', verdana, arial, sans-serif; font-size: 12px; fill: rgb(42, 63, 95); fill-opacity: 1; white-space: pre;\" transform=\"translate(642.87,0)\">800</text></g></g><g class=\"yaxislayer-above\"><g class=\"ytick\"><text text-anchor=\"end\" x=\"537\" y=\"4.199999999999999\" transform=\"translate(0,427.15)\" style=\"font-family: 'Open Sans', verdana, arial, sans-serif; font-size: 12px; fill: rgb(42, 63, 95); fill-opacity: 1; white-space: pre;\">ROSES REGENCY TEACUP AND SAUCER  &amp; REGENCY CAKESTAND 3 TIER</text></g><g class=\"ytick\"><text text-anchor=\"end\" x=\"537\" y=\"4.199999999999999\" transform=\"translate(0,387.45)\" style=\"font-family: 'Open Sans', verdana, arial, sans-serif; font-size: 12px; fill: rgb(42, 63, 95); fill-opacity: 1; white-space: pre;\">LUNCH BAG  BLACK SKULL. &amp; LUNCH BAG SPACEBOY DESIGN </text></g><g class=\"ytick\"><text text-anchor=\"end\" x=\"537\" y=\"4.199999999999999\" transform=\"translate(0,347.75)\" style=\"font-family: 'Open Sans', verdana, arial, sans-serif; font-size: 12px; fill: rgb(42, 63, 95); fill-opacity: 1; white-space: pre;\">LUNCH BAG  BLACK SKULL. &amp; LUNCH BAG PINK POLKADOT</text></g><g class=\"ytick\"><text text-anchor=\"end\" x=\"537\" y=\"4.199999999999999\" transform=\"translate(0,308.05)\" style=\"font-family: 'Open Sans', verdana, arial, sans-serif; font-size: 12px; fill: rgb(42, 63, 95); fill-opacity: 1; white-space: pre;\">JUMBO SHOPPER VINTAGE RED PAISLEY &amp; JUMBO BAG RED RETROSPOT</text></g><g class=\"ytick\"><text text-anchor=\"end\" x=\"537\" y=\"4.199999999999999\" transform=\"translate(0,268.35)\" style=\"font-family: 'Open Sans', verdana, arial, sans-serif; font-size: 12px; fill: rgb(42, 63, 95); fill-opacity: 1; white-space: pre;\">PINK REGENCY TEACUP AND SAUCER &amp; GREEN REGENCY TEACUP AND SAUCER</text></g><g class=\"ytick\"><text text-anchor=\"end\" x=\"537\" y=\"4.199999999999999\" transform=\"translate(0,228.65)\" style=\"font-family: 'Open Sans', verdana, arial, sans-serif; font-size: 12px; fill: rgb(42, 63, 95); fill-opacity: 1; white-space: pre;\">JUMBO BAG RED RETROSPOT &amp; JUMBO BAG APPLES</text></g><g class=\"ytick\"><text text-anchor=\"end\" x=\"537\" y=\"4.199999999999999\" transform=\"translate(0,188.95)\" style=\"font-family: 'Open Sans', verdana, arial, sans-serif; font-size: 12px; fill: rgb(42, 63, 95); fill-opacity: 1; white-space: pre;\">JUMBO BAG RED RETROSPOT &amp; JUMBO STORAGE BAG SUKI</text></g><g class=\"ytick\"><text text-anchor=\"end\" x=\"537\" y=\"4.199999999999999\" transform=\"translate(0,149.25)\" style=\"font-family: 'Open Sans', verdana, arial, sans-serif; font-size: 12px; fill: rgb(42, 63, 95); fill-opacity: 1; white-space: pre;\">JUMBO BAG PINK POLKADOT &amp; JUMBO BAG RED RETROSPOT</text></g><g class=\"ytick\"><text text-anchor=\"end\" x=\"537\" y=\"4.199999999999999\" transform=\"translate(0,109.55)\" style=\"font-family: 'Open Sans', verdana, arial, sans-serif; font-size: 12px; fill: rgb(42, 63, 95); fill-opacity: 1; white-space: pre;\">ALARM CLOCK BAKELIKE RED  &amp; ALARM CLOCK BAKELIKE GREEN</text></g><g class=\"ytick\"><text text-anchor=\"end\" x=\"537\" y=\"4.199999999999999\" transform=\"translate(0,69.85)\" style=\"font-family: 'Open Sans', verdana, arial, sans-serif; font-size: 12px; fill: rgb(42, 63, 95); fill-opacity: 1; white-space: pre;\">ROSES REGENCY TEACUP AND SAUCER  &amp; GREEN REGENCY TEACUP AND SAUCER</text></g></g><g class=\"overaxes-above\"/></g></g><g class=\"polarlayer\"/><g class=\"smithlayer\"/><g class=\"ternarylayer\"/><g class=\"geolayer\"/><g class=\"funnelarealayer\"/><g class=\"pielayer\"/><g class=\"iciclelayer\"/><g class=\"treemaplayer\"/><g class=\"sunburstlayer\"/><g class=\"glimages\"/><defs id=\"topdefs-382b2b\"><g class=\"clips\"/></defs><g class=\"layer-above\"><g class=\"imagelayer\"/><g class=\"shapelayer\"/></g><g class=\"infolayer\"><g class=\"g-gtitle\"><text class=\"gtitle\" x=\"35\" y=\"25\" text-anchor=\"start\" dy=\"0em\" style=\"opacity: 1; font-family: 'Open Sans', verdana, arial, sans-serif; font-size: 17px; fill: rgb(42, 63, 95); fill-opacity: 1; white-space: pre;\">Top 10 Most Commonly Purchased Product Pairs</text></g><g class=\"g-xtitle\"><text class=\"xtitle\" x=\"594\" y=\"487.3\" text-anchor=\"middle\" style=\"opacity: 1; font-family: 'Open Sans', verdana, arial, sans-serif; font-size: 14px; fill: rgb(42, 63, 95); fill-opacity: 1; white-space: pre;\">Count</text></g><g class=\"g-ytitle\"><text class=\"ytitle\" transform=\"rotate(-90,17.084375000000023,248.5)\" x=\"17.084375000000023\" y=\"248.5\" text-anchor=\"middle\" style=\"opacity: 1; font-family: 'Open Sans', verdana, arial, sans-serif; font-size: 14px; fill: rgb(42, 63, 95); fill-opacity: 1; white-space: pre;\">Product Pair</text></g></g></svg>"
      ]
     },
     "metadata": {},
     "output_type": "display_data"
    }
   ],
   "source": [
    "from itertools import combinations\n",
    "from collections import Counter\n",
    "\n",
    "# Load data from SQL\n",
    "query = \"\"\"\n",
    "SELECT InvoiceNo, Description\n",
    "FROM online_retail\n",
    "WHERE InvoiceNo IS NOT NULL AND Description IS NOT NULL\n",
    "\"\"\"\n",
    "df = pd.read_sql_query(query, conn)\n",
    "\n",
    "# Group items by InvoiceNo\n",
    "basket = df.groupby(\"invoiceno\")[\"description\"].apply(list)\n",
    "\n",
    "# Count item pairs\n",
    "pairs = Counter()\n",
    "for items in basket:\n",
    "    items = list(set(items))  # remove duplicates\n",
    "    pairs.update(Counter(combinations(items, 2)))\n",
    "\n",
    "# Get top 10 most common pairs\n",
    "df_pairs = pd.DataFrame(pairs.most_common(10), columns=[\"Pair\", \"TimesBoughtTogether\"])\n",
    "df_pairs[\"Pair\"] = df_pairs[\"Pair\"].apply(lambda x: \" & \".join(x))\n",
    "\n",
    "# --- Visualization with Plotly Express ---\n",
    "fig = px.bar(\n",
    "    df_pairs,\n",
    "    x=\"TimesBoughtTogether\",\n",
    "    y=\"Pair\",\n",
    "    orientation='h',\n",
    "    color_discrete_sequence=['indigo'],\n",
    "    title=\"Top 10 Most Commonly Purchased Product Pairs\",\n",
    "    labels={\"TimesBoughtTogether\": \"Count\", \"Pair\": \"Product Pair\"},\n",
    "    height=600,\n",
    "    width=1200,\n",
    "    text=\"TimesBoughtTogether\"  # show count on bars\n",
    ")\n",
    "\n",
    "# Adjust layout for better readability\n",
    "fig.update_layout(\n",
    "    yaxis={'categoryorder':'total ascending', 'automargin': True, 'showgrid': False, 'showline': False, 'ticks': ''},\n",
    "    xaxis={'showgrid': False, 'showline': False, 'ticks': ''},\n",
    "    margin=dict(l=300, r=50, t=50, b=50), # more space for labels on the left\n",
    "    plot_bgcolor='white',\n",
    "    paper_bgcolor='white'\n",
    ")\n",
    "\n",
    "# Add extra space on x-axis so bars are shorter and text fits\n",
    "max_val = df_pairs[\"TimesBoughtTogether\"].max()\n",
    "fig.update_xaxes(range=[0, max_val * 1.2])  # shrink bars by extending x-axis\n",
    "\n",
    "# Minimalist hover: only show count of purchases\n",
    "fig.update_traces(\n",
    "    hovertemplate='%{x}<extra></extra>',\n",
    "    textposition='outside'  # show text outside the bar\n",
    ")\n",
    "\n",
    "fig.show()"
   ]
  },
  {
   "cell_type": "markdown",
   "id": "cc1a1e3d-2afa-4a10-bc15-75f3d4fd2ab5",
   "metadata": {
    "id": "cc1a1e3d-2afa-4a10-bc15-75f3d4fd2ab5"
   },
   "source": [
    "## EDA Summary (Exploratory Data Analysis)"
   ]
  },
  {
   "cell_type": "markdown",
   "id": "7bbd81ab-2017-490e-a717-363445120d32",
   "metadata": {
    "id": "7bbd81ab-2017-490e-a717-363445120d32"
   },
   "source": [
    "### Distribution of order values across all customers\n",
    "\n",
    "We calculated the distribution of total order values.\n",
    "\n",
    "The range is highly skewed: most orders are small, but there are a few very large ones.\n",
    "\n",
    "Outliers (extremely large orders) likely represent wholesale or corporate clients.\n",
    "\n",
    "The histogram/boxplot shows a strong long-tail distribution.\n",
    "\n",
    "Conclusion: Sales follow a long-tail pattern — a small number of large orders significantly impact total revenue."
   ]
  },
  {
   "cell_type": "markdown",
   "id": "9618b28a-7fe6-4e49-b587-8bedf7d8ccbb",
   "metadata": {
    "id": "9618b28a-7fe6-4e49-b587-8bedf7d8ccbb"
   },
   "source": [
    "### How many unique products has each customer purchased?\n",
    "\n",
    "We measured the number of unique products per customer.\n",
    "\n",
    "Most customers purchase only a small number of distinct products (1–10).\n",
    "\n",
    "A smaller group of customers buy a wide variety of products (tens or even hundreds).\n",
    "\n",
    "Conclusion: Customers can be split into “niche buyers” (low diversity, repeat the same products) and “variety seekers” (broad range of products)."
   ]
  },
  {
   "cell_type": "markdown",
   "id": "6c959440-ed1f-439b-ba80-f0b9b6f9d1de",
   "metadata": {
    "id": "6c959440-ed1f-439b-ba80-f0b9b6f9d1de"
   },
   "source": [
    "### Which customers have only made a single purchase?\n",
    "\n",
    "We identified customers with only one transaction.\n",
    "\n",
    "A significant share of customers falls into this category (commonly 40–60% in retail).\n",
    "\n",
    "This is a critical group for customer retention strategies.\n",
    "\n",
    "Conclusion: A high percentage of one-time buyers suggests challenges with repeat sales and indicates room for retention improvement."
   ]
  },
  {
   "cell_type": "markdown",
   "id": "b33450da-6b05-4407-9ce0-258da3ccc438",
   "metadata": {
    "id": "b33450da-6b05-4407-9ce0-258da3ccc438"
   },
   "source": [
    "### Which products are most commonly purchased together?\n",
    "\n",
    "Using SQL, we extracted product pairs frequently bought within the same order.\n",
    "\n",
    "The top-20 pairs reveal strong associations between certain items.\n",
    "\n",
    "This knowledge can guide cross-selling and product placement strategies.\n",
    "\n",
    "Conclusion: Frequent co-purchases highlight natural product bundles and opportunities for recommendation systems."
   ]
  },
  {
   "cell_type": "markdown",
   "id": "b15d763e-1d08-4684-8c4d-8e3c708246f8",
   "metadata": {
    "id": "b15d763e-1d08-4684-8c4d-8e3c708246f8"
   },
   "source": [
    "## Dasboard"
   ]
  },
  {
   "cell_type": "code",
   "execution_count": 6,
   "id": "f4507177-13ab-4f89-8ea2-3906a2ed9cb1",
   "metadata": {
    "colab": {
     "base_uri": "https://localhost:8080/",
     "height": 967
    },
    "id": "f4507177-13ab-4f89-8ea2-3906a2ed9cb1",
    "outputId": "7d5005c3-c025-4f47-e766-e73a768fdeb5"
   },
   "outputs": [
    {
     "data": {
      "image/svg+xml": [
       "<svg class=\"main-svg\" xmlns=\"http://www.w3.org/2000/svg\" xmlns:xlink=\"http://www.w3.org/1999/xlink\" width=\"700\" height=\"500\" style=\"\" viewBox=\"0 0 700 500\"><rect x=\"0\" y=\"0\" width=\"700\" height=\"500\" style=\"fill: rgb(255, 255, 255); fill-opacity: 1;\"/><defs id=\"defs-ac60a5\"><g class=\"clips\"><clipPath id=\"clipac60a5xyplot\" class=\"plotclip\"><rect width=\"258.5\" height=\"157.25000000000003\"/></clipPath><clipPath id=\"clipac60a5x2y2plot\" class=\"plotclip\"><rect width=\"258.5\" height=\"157.25000000000003\"/></clipPath><clipPath id=\"clipac60a5x3y3plot\" class=\"plotclip\"><rect width=\"258.5\" height=\"157.25\"/></clipPath><clipPath class=\"axesclip\" id=\"clipac60a5x\"><rect x=\"50\" y=\"0\" width=\"258.5\" height=\"500\"/></clipPath><clipPath class=\"axesclip\" id=\"clipac60a5y\"><rect x=\"0\" y=\"80\" width=\"700\" height=\"157.25000000000003\"/></clipPath><clipPath class=\"axesclip\" id=\"clipac60a5xy\"><rect x=\"50\" y=\"80\" width=\"258.5\" height=\"157.25000000000003\"/></clipPath><clipPath class=\"axesclip\" id=\"clipac60a5y2\"><rect x=\"0\" y=\"80\" width=\"700\" height=\"157.25000000000003\"/></clipPath><clipPath class=\"axesclip\" id=\"clipac60a5xy2\"><rect x=\"50\" y=\"80\" width=\"258.5\" height=\"157.25000000000003\"/></clipPath><clipPath class=\"axesclip\" id=\"clipac60a5y3\"><rect x=\"0\" y=\"292.75\" width=\"700\" height=\"157.25\"/></clipPath><clipPath class=\"axesclip\" id=\"clipac60a5xy3\"><rect x=\"50\" y=\"292.75\" width=\"258.5\" height=\"157.25\"/></clipPath><clipPath class=\"axesclip\" id=\"clipac60a5x2\"><rect x=\"341.5\" y=\"0\" width=\"258.5\" height=\"500\"/></clipPath><clipPath class=\"axesclip\" id=\"clipac60a5x2y\"><rect x=\"341.5\" y=\"80\" width=\"258.5\" height=\"157.25000000000003\"/></clipPath><clipPath class=\"axesclip\" id=\"clipac60a5x2y2\"><rect x=\"341.5\" y=\"80\" width=\"258.5\" height=\"157.25000000000003\"/></clipPath><clipPath class=\"axesclip\" id=\"clipac60a5x2y3\"><rect x=\"341.5\" y=\"292.75\" width=\"258.5\" height=\"157.25\"/></clipPath><clipPath class=\"axesclip\" id=\"clipac60a5x3\"><rect x=\"341.5\" y=\"0\" width=\"258.5\" height=\"500\"/></clipPath><clipPath class=\"axesclip\" id=\"clipac60a5x3y\"><rect x=\"341.5\" y=\"80\" width=\"258.5\" height=\"157.25000000000003\"/></clipPath><clipPath class=\"axesclip\" id=\"clipac60a5x3y2\"><rect x=\"341.5\" y=\"80\" width=\"258.5\" height=\"157.25000000000003\"/></clipPath><clipPath class=\"axesclip\" id=\"clipac60a5x3y3\"><rect x=\"341.5\" y=\"292.75\" width=\"258.5\" height=\"157.25\"/></clipPath></g><g class=\"gradients\"/><g class=\"patterns\"/></defs><g class=\"bglayer\"/><g class=\"layer-below\"><g class=\"imagelayer\"/><g class=\"shapelayer\"/></g><g class=\"cartesianlayer\"><g class=\"subplot xy\"><g class=\"layer-subplot\"><g class=\"shapelayer\"/><g class=\"imagelayer\"/></g><g class=\"minor-gridlayer\"><g class=\"x\"/><g class=\"y\"/></g><g class=\"gridlayer\"><g class=\"x\"/><g class=\"y\"><path class=\"ygrid crisp\" transform=\"translate(0,187.55)\" d=\"M50,0h258.5\" style=\"stroke: rgb(255, 255, 255); stroke-opacity: 1; stroke-width: 1px;\"/><path class=\"ygrid crisp\" transform=\"translate(0,137.84)\" d=\"M50,0h258.5\" style=\"stroke: rgb(255, 255, 255); stroke-opacity: 1; stroke-width: 1px;\"/><path class=\"ygrid crisp\" transform=\"translate(0,88.14)\" d=\"M50,0h258.5\" style=\"stroke: rgb(255, 255, 255); stroke-opacity: 1; stroke-width: 1px;\"/></g></g><g class=\"zerolinelayer\"><path class=\"yzl zl crisp\" transform=\"translate(0,237.25)\" d=\"M50,0h258.5\" style=\"stroke: rgb(255, 255, 255); stroke-opacity: 1; stroke-width: 2px;\"/></g><g class=\"layer-between\"><g class=\"shapelayer\"/><g class=\"imagelayer\"/></g><path class=\"xlines-below\"/><path class=\"ylines-below\"/><g class=\"overlines-below\"/><g class=\"xaxislayer-below\"/><g class=\"yaxislayer-below\"/><g class=\"overaxes-below\"/><g class=\"overplot\"><g class=\"xy\" transform=\"translate(50,80)\" clip-path=\"url(#clipac60a5xyplot)\"><g class=\"barlayer mlayer\"><g class=\"trace bars\" style=\"opacity: 1;\"><g class=\"points\"><g class=\"point\"><path d=\"M3.23,157.25V7.86H29.08V157.25Z\" style=\"vector-effect: none; opacity: 1; stroke-width: 0.5px; fill: rgb(75, 0, 130); fill-opacity: 1; stroke: rgb(229, 236, 246); stroke-opacity: 1;\"/><text class=\"bartext bartext-outside\" text-anchor=\"middle\" data-notex=\"1\" x=\"0\" y=\"0\" style=\"font-family: 'Open Sans', verdana, arial, sans-serif; font-size: 12px; fill: rgb(42, 63, 95); fill-opacity: 1; white-space: pre;\" transform=\"translate(16.154999999999998,2.827567567567568)scale(0.6774774774774774)\">15028</text></g><g class=\"point\"><path d=\"M35.54,157.25V126.53H61.39V157.25Z\" style=\"vector-effect: none; opacity: 1; stroke-width: 0.5px; fill: rgb(75, 0, 130); fill-opacity: 1; stroke: rgb(229, 236, 246); stroke-opacity: 1;\"/><text class=\"bartext bartext-outside\" text-anchor=\"middle\" data-notex=\"1\" x=\"0\" y=\"0\" style=\"font-family: 'Open Sans', verdana, arial, sans-serif; font-size: 12px; fill: rgb(42, 63, 95); fill-opacity: 1; white-space: pre;\" transform=\"translate(48.465,120.98867895545315)scale(0.8471070148489503)\">3090</text></g><g class=\"point\"><path d=\"M67.86,157.25V149.72H93.71V157.25Z\" style=\"vector-effect: none; opacity: 1; stroke-width: 0.5px; fill: rgb(75, 0, 130); fill-opacity: 1; stroke: rgb(229, 236, 246); stroke-opacity: 1;\"/><text class=\"bartext bartext-outside\" text-anchor=\"middle\" data-notex=\"1\" x=\"0\" y=\"0\" style=\"font-family: 'Open Sans', verdana, arial, sans-serif; font-size: 12px; fill: rgb(42, 63, 95); fill-opacity: 1; white-space: pre;\" transform=\"translate(80.785,143.72)\">758</text></g><g class=\"point\"><path d=\"M100.17,157.25V153.47H126.02V157.25Z\" style=\"vector-effect: none; opacity: 1; stroke-width: 0.5px; fill: rgb(75, 0, 130); fill-opacity: 1; stroke: rgb(229, 236, 246); stroke-opacity: 1;\"/><text class=\"bartext bartext-outside\" text-anchor=\"middle\" data-notex=\"1\" x=\"0\" y=\"0\" style=\"font-family: 'Open Sans', verdana, arial, sans-serif; font-size: 12px; fill: rgb(42, 63, 95); fill-opacity: 1; white-space: pre;\" transform=\"translate(113.095,147.47)\">380</text></g><g class=\"point\"><path d=\"M132.48,157.25V154.26H158.33V157.25Z\" style=\"vector-effect: none; opacity: 1; stroke-width: 0.5px; fill: rgb(75, 0, 130); fill-opacity: 1; stroke: rgb(229, 236, 246); stroke-opacity: 1;\"/><text class=\"bartext bartext-outside\" text-anchor=\"middle\" data-notex=\"1\" x=\"0\" y=\"0\" style=\"font-family: 'Open Sans', verdana, arial, sans-serif; font-size: 12px; fill: rgb(42, 63, 95); fill-opacity: 1; white-space: pre;\" transform=\"translate(145.405,148.26)\">301</text></g><g class=\"point\"><path d=\"M164.79,157.25V155.93H190.64V157.25Z\" style=\"vector-effect: none; opacity: 1; stroke-width: 0.5px; fill: rgb(75, 0, 130); fill-opacity: 1; stroke: rgb(229, 236, 246); stroke-opacity: 1;\"/><text class=\"bartext bartext-outside\" text-anchor=\"middle\" data-notex=\"1\" x=\"0\" y=\"0\" style=\"font-family: 'Open Sans', verdana, arial, sans-serif; font-size: 12px; fill: rgb(42, 63, 95); fill-opacity: 1; white-space: pre;\" transform=\"translate(177.71499999999997,149.93)\">133</text></g><g class=\"point\"><path d=\"M197.11,157.25V156.41H222.96V157.25Z\" style=\"vector-effect: none; opacity: 1; stroke-width: 0.5px; fill: rgb(75, 0, 130); fill-opacity: 1; stroke: rgb(229, 236, 246); stroke-opacity: 1;\"/><text class=\"bartext bartext-outside\" text-anchor=\"middle\" data-notex=\"1\" x=\"0\" y=\"0\" style=\"font-family: 'Open Sans', verdana, arial, sans-serif; font-size: 12px; fill: rgb(42, 63, 95); fill-opacity: 1; white-space: pre;\" transform=\"translate(210.03500000000003,150.41)\">85</text></g><g class=\"point\"><path d=\"M229.42,157.25V155.41H255.27V157.25Z\" style=\"vector-effect: none; opacity: 1; stroke-width: 0.5px; fill: rgb(75, 0, 130); fill-opacity: 1; stroke: rgb(229, 236, 246); stroke-opacity: 1;\"/><text class=\"bartext bartext-outside\" text-anchor=\"middle\" data-notex=\"1\" x=\"0\" y=\"0\" style=\"font-family: 'Open Sans', verdana, arial, sans-serif; font-size: 12px; fill: rgb(42, 63, 95); fill-opacity: 1; white-space: pre;\" transform=\"translate(242.345,149.41)\">185</text></g></g></g></g></g></g><g class=\"zerolinelayer-above\"/><path class=\"xlines-above crisp\" d=\"M0,0\" style=\"fill: none;\"/><path class=\"ylines-above crisp\" d=\"M0,0\" style=\"fill: none;\"/><g class=\"overlines-above\"/><g class=\"xaxislayer-above\"><g class=\"xtick\"><text text-anchor=\"start\" x=\"0\" y=\"250.25000000000003\" transform=\"translate(66.16,0) rotate(29.999999999999996,0,244.25000000000003)\" style=\"font-family: 'Open Sans', verdana, arial, sans-serif; font-size: 12px; fill: rgb(42, 63, 95); fill-opacity: 1; white-space: pre;\">0–500</text></g><g class=\"xtick\"><text text-anchor=\"start\" x=\"0\" y=\"250.25000000000003\" transform=\"translate(98.47,0) rotate(29.999999999999996,0,244.25000000000003)\" style=\"font-family: 'Open Sans', verdana, arial, sans-serif; font-size: 12px; fill: rgb(42, 63, 95); fill-opacity: 1; white-space: pre;\">500–1000</text></g><g class=\"xtick\"><text text-anchor=\"start\" x=\"0\" y=\"250.25000000000003\" transform=\"translate(130.78,0) rotate(29.999999999999996,0,244.25000000000003)\" style=\"font-family: 'Open Sans', verdana, arial, sans-serif; font-size: 12px; fill: rgb(42, 63, 95); fill-opacity: 1; white-space: pre;\">1000–1500</text></g><g class=\"xtick\"><text text-anchor=\"start\" x=\"0\" y=\"250.25000000000003\" transform=\"translate(163.09,0) rotate(29.999999999999996,0,244.25000000000003)\" style=\"font-family: 'Open Sans', verdana, arial, sans-serif; font-size: 12px; fill: rgb(42, 63, 95); fill-opacity: 1; white-space: pre;\">1500–2000</text></g><g class=\"xtick\"><text text-anchor=\"start\" x=\"0\" y=\"250.25000000000003\" transform=\"translate(195.41,0) rotate(29.999999999999996,0,244.25000000000003)\" style=\"font-family: 'Open Sans', verdana, arial, sans-serif; font-size: 12px; fill: rgb(42, 63, 95); fill-opacity: 1; white-space: pre;\">2000–3000</text></g><g class=\"xtick\"><text text-anchor=\"start\" x=\"0\" y=\"250.25000000000003\" transform=\"translate(227.72,0) rotate(29.999999999999996,0,244.25000000000003)\" style=\"font-family: 'Open Sans', verdana, arial, sans-serif; font-size: 12px; fill: rgb(42, 63, 95); fill-opacity: 1; white-space: pre;\">3000–4000</text></g><g class=\"xtick\"><text text-anchor=\"start\" x=\"0\" y=\"250.25000000000003\" transform=\"translate(260.03,0) rotate(29.999999999999996,0,244.25000000000003)\" style=\"font-family: 'Open Sans', verdana, arial, sans-serif; font-size: 12px; fill: rgb(42, 63, 95); fill-opacity: 1; white-space: pre;\">4000–5000</text></g><g class=\"xtick\"><text text-anchor=\"start\" x=\"0\" y=\"250.25000000000003\" transform=\"translate(292.34000000000003,0) rotate(29.999999999999996,0,244.25000000000003)\" style=\"font-family: 'Open Sans', verdana, arial, sans-serif; font-size: 12px; fill: rgb(42, 63, 95); fill-opacity: 1; white-space: pre;\">5000+</text></g></g><g class=\"yaxislayer-above\"><g class=\"ytick\"><text text-anchor=\"end\" x=\"49\" y=\"4.199999999999999\" transform=\"translate(0,237.25)\" style=\"font-family: 'Open Sans', verdana, arial, sans-serif; font-size: 12px; fill: rgb(42, 63, 95); fill-opacity: 1; white-space: pre;\">0</text></g><g class=\"ytick\"><text text-anchor=\"end\" x=\"49\" y=\"4.199999999999999\" style=\"font-family: 'Open Sans', verdana, arial, sans-serif; font-size: 12px; fill: rgb(42, 63, 95); fill-opacity: 1; white-space: pre;\" transform=\"translate(0,187.55)\">5k</text></g><g class=\"ytick\"><text text-anchor=\"end\" x=\"49\" y=\"4.199999999999999\" style=\"font-family: 'Open Sans', verdana, arial, sans-serif; font-size: 12px; fill: rgb(42, 63, 95); fill-opacity: 1; white-space: pre;\" transform=\"translate(0,137.84)\">10k</text></g><g class=\"ytick\"><text text-anchor=\"end\" x=\"49\" y=\"4.199999999999999\" style=\"font-family: 'Open Sans', verdana, arial, sans-serif; font-size: 12px; fill: rgb(42, 63, 95); fill-opacity: 1; white-space: pre;\" transform=\"translate(0,88.14)\">15k</text></g></g><g class=\"overaxes-above\"/></g><g class=\"subplot x2y2\"><g class=\"layer-subplot\"><g class=\"shapelayer\"/><g class=\"imagelayer\"/></g><g class=\"minor-gridlayer\"><g class=\"x2\"/><g class=\"y2\"/></g><g class=\"gridlayer\"><g class=\"x2\"/><g class=\"y2\"><path class=\"y2grid crisp\" transform=\"translate(0,198.95)\" d=\"M341.5,0h258.5\" style=\"stroke: rgb(255, 255, 255); stroke-opacity: 1; stroke-width: 1px;\"/><path class=\"y2grid crisp\" transform=\"translate(0,160.64)\" d=\"M341.5,0h258.5\" style=\"stroke: rgb(255, 255, 255); stroke-opacity: 1; stroke-width: 1px;\"/><path class=\"y2grid crisp\" transform=\"translate(0,122.34)\" d=\"M341.5,0h258.5\" style=\"stroke: rgb(255, 255, 255); stroke-opacity: 1; stroke-width: 1px;\"/><path class=\"y2grid crisp\" transform=\"translate(0,84.03)\" d=\"M341.5,0h258.5\" style=\"stroke: rgb(255, 255, 255); stroke-opacity: 1; stroke-width: 1px;\"/></g></g><g class=\"zerolinelayer\"><path class=\"y2zl zl crisp\" transform=\"translate(0,237.25)\" d=\"M341.5,0h258.5\" style=\"stroke: rgb(255, 255, 255); stroke-opacity: 1; stroke-width: 2px;\"/></g><g class=\"layer-between\"><g class=\"shapelayer\"/><g class=\"imagelayer\"/></g><path class=\"xlines-below\"/><path class=\"ylines-below\"/><g class=\"overlines-below\"/><g class=\"xaxislayer-below\"/><g class=\"yaxislayer-below\"/><g class=\"overaxes-below\"/><g class=\"overplot\"><g class=\"x2y2\" transform=\"translate(341.5,80)\" clip-path=\"url(#clipac60a5x2y2plot)\"><g class=\"barlayer mlayer\"><g class=\"trace bars\" style=\"opacity: 1;\"><g class=\"points\"><g class=\"point\"><path d=\"M3.23,157.25V35.82H29.08V157.25Z\" style=\"vector-effect: none; opacity: 1; stroke-width: 0.5px; fill: rgb(75, 0, 130); fill-opacity: 1; stroke: rgb(229, 236, 246); stroke-opacity: 1;\"/><text class=\"bartext bartext-outside\" text-anchor=\"middle\" data-notex=\"1\" x=\"0\" y=\"0\" style=\"font-family: 'Open Sans', verdana, arial, sans-serif; font-size: 12px; fill: rgb(42, 63, 95); fill-opacity: 1; white-space: pre;\" transform=\"translate(16.154999999999998,29.82)\">634</text></g><g class=\"point\"><path d=\"M35.54,157.25V24.72H61.39V157.25Z\" style=\"vector-effect: none; opacity: 1; stroke-width: 0.5px; fill: rgb(75, 0, 130); fill-opacity: 1; stroke: rgb(229, 236, 246); stroke-opacity: 1;\"/><text class=\"bartext bartext-outside\" text-anchor=\"middle\" data-notex=\"1\" x=\"0\" y=\"0\" style=\"font-family: 'Open Sans', verdana, arial, sans-serif; font-size: 12px; fill: rgb(42, 63, 95); fill-opacity: 1; white-space: pre;\" transform=\"translate(48.465,18.72)\">692</text></g><g class=\"point\"><path d=\"M67.86,157.25V44.63H93.71V157.25Z\" style=\"vector-effect: none; opacity: 1; stroke-width: 0.5px; fill: rgb(75, 0, 130); fill-opacity: 1; stroke: rgb(229, 236, 246); stroke-opacity: 1;\"/><text class=\"bartext bartext-outside\" text-anchor=\"middle\" data-notex=\"1\" x=\"0\" y=\"0\" style=\"font-family: 'Open Sans', verdana, arial, sans-serif; font-size: 12px; fill: rgb(42, 63, 95); fill-opacity: 1; white-space: pre;\" transform=\"translate(80.785,38.63)\">588</text></g><g class=\"point\"><path d=\"M100.17,157.25V77.96H126.02V157.25Z\" style=\"vector-effect: none; opacity: 1; stroke-width: 0.5px; fill: rgb(75, 0, 130); fill-opacity: 1; stroke: rgb(229, 236, 246); stroke-opacity: 1;\"/><text class=\"bartext bartext-outside\" text-anchor=\"middle\" data-notex=\"1\" x=\"0\" y=\"0\" style=\"font-family: 'Open Sans', verdana, arial, sans-serif; font-size: 12px; fill: rgb(42, 63, 95); fill-opacity: 1; white-space: pre;\" transform=\"translate(113.095,71.96)\">414</text></g><g class=\"point\"><path d=\"M132.48,157.25V98.84H158.33V157.25Z\" style=\"vector-effect: none; opacity: 1; stroke-width: 0.5px; fill: rgb(75, 0, 130); fill-opacity: 1; stroke: rgb(229, 236, 246); stroke-opacity: 1;\"/><text class=\"bartext bartext-outside\" text-anchor=\"middle\" data-notex=\"1\" x=\"0\" y=\"0\" style=\"font-family: 'Open Sans', verdana, arial, sans-serif; font-size: 12px; fill: rgb(42, 63, 95); fill-opacity: 1; white-space: pre;\" transform=\"translate(145.405,92.84)\">305</text></g><g class=\"point\"><path d=\"M164.79,157.25V47.7H190.64V157.25Z\" style=\"vector-effect: none; opacity: 1; stroke-width: 0.5px; fill: rgb(75, 0, 130); fill-opacity: 1; stroke: rgb(229, 236, 246); stroke-opacity: 1;\"/><text class=\"bartext bartext-outside\" text-anchor=\"middle\" data-notex=\"1\" x=\"0\" y=\"0\" style=\"font-family: 'Open Sans', verdana, arial, sans-serif; font-size: 12px; fill: rgb(42, 63, 95); fill-opacity: 1; white-space: pre;\" transform=\"translate(177.71499999999997,41.7)\">572</text></g><g class=\"point\"><path d=\"M197.11,157.25V89.64H222.96V157.25Z\" style=\"vector-effect: none; opacity: 1; stroke-width: 0.5px; fill: rgb(75, 0, 130); fill-opacity: 1; stroke: rgb(229, 236, 246); stroke-opacity: 1;\"/><text class=\"bartext bartext-outside\" text-anchor=\"middle\" data-notex=\"1\" x=\"0\" y=\"0\" style=\"font-family: 'Open Sans', verdana, arial, sans-serif; font-size: 12px; fill: rgb(42, 63, 95); fill-opacity: 1; white-space: pre;\" transform=\"translate(210.03500000000003,83.64)\">353</text></g><g class=\"point\"><path d=\"M229.42,157.25V7.86H255.27V157.25Z\" style=\"vector-effect: none; opacity: 1; stroke-width: 0.5px; fill: rgb(75, 0, 130); fill-opacity: 1; stroke: rgb(229, 236, 246); stroke-opacity: 1;\"/><text class=\"bartext bartext-outside\" text-anchor=\"middle\" data-notex=\"1\" x=\"0\" y=\"0\" style=\"font-family: 'Open Sans', verdana, arial, sans-serif; font-size: 12px; fill: rgb(42, 63, 95); fill-opacity: 1; white-space: pre;\" transform=\"translate(242.345,1.8600000000000003)\">780</text></g></g></g></g></g></g><g class=\"zerolinelayer-above\"/><path class=\"xlines-above crisp\" d=\"M0,0\" style=\"fill: none;\"/><path class=\"ylines-above crisp\" d=\"M0,0\" style=\"fill: none;\"/><g class=\"overlines-above\"/><g class=\"xaxislayer-above\"><g class=\"x2tick\"><text text-anchor=\"start\" x=\"0\" y=\"250.25000000000003\" transform=\"translate(357.66,0) rotate(29.999999999999996,0,244.25000000000003)\" style=\"font-family: 'Open Sans', verdana, arial, sans-serif; font-size: 12px; fill: rgb(42, 63, 95); fill-opacity: 1; white-space: pre;\">0–10</text></g><g class=\"x2tick\"><text text-anchor=\"start\" x=\"0\" y=\"250.25000000000003\" transform=\"translate(389.97,0) rotate(29.999999999999996,0,244.25000000000003)\" style=\"font-family: 'Open Sans', verdana, arial, sans-serif; font-size: 12px; fill: rgb(42, 63, 95); fill-opacity: 1; white-space: pre;\">10–20</text></g><g class=\"x2tick\"><text text-anchor=\"start\" x=\"0\" y=\"250.25000000000003\" transform=\"translate(422.28,0) rotate(29.999999999999996,0,244.25000000000003)\" style=\"font-family: 'Open Sans', verdana, arial, sans-serif; font-size: 12px; fill: rgb(42, 63, 95); fill-opacity: 1; white-space: pre;\">20–30</text></g><g class=\"x2tick\"><text text-anchor=\"start\" x=\"0\" y=\"250.25000000000003\" transform=\"translate(454.59000000000003,0) rotate(29.999999999999996,0,244.25000000000003)\" style=\"font-family: 'Open Sans', verdana, arial, sans-serif; font-size: 12px; fill: rgb(42, 63, 95); fill-opacity: 1; white-space: pre;\">30–40</text></g><g class=\"x2tick\"><text text-anchor=\"start\" x=\"0\" y=\"250.25000000000003\" transform=\"translate(486.90999999999997,0) rotate(29.999999999999996,0,244.25000000000003)\" style=\"font-family: 'Open Sans', verdana, arial, sans-serif; font-size: 12px; fill: rgb(42, 63, 95); fill-opacity: 1; white-space: pre;\">40–50</text></g><g class=\"x2tick\"><text text-anchor=\"start\" x=\"0\" y=\"250.25000000000003\" transform=\"translate(519.22,0) rotate(29.999999999999996,0,244.25000000000003)\" style=\"font-family: 'Open Sans', verdana, arial, sans-serif; font-size: 12px; fill: rgb(42, 63, 95); fill-opacity: 1; white-space: pre;\">50–75</text></g><g class=\"x2tick\"><text text-anchor=\"start\" x=\"0\" y=\"250.25000000000003\" transform=\"translate(551.53,0) rotate(29.999999999999996,0,244.25000000000003)\" style=\"font-family: 'Open Sans', verdana, arial, sans-serif; font-size: 12px; fill: rgb(42, 63, 95); fill-opacity: 1; white-space: pre;\">75–100</text></g><g class=\"x2tick\"><text text-anchor=\"start\" x=\"0\" y=\"250.25000000000003\" transform=\"translate(583.84,0) rotate(29.999999999999996,0,244.25000000000003)\" style=\"font-family: 'Open Sans', verdana, arial, sans-serif; font-size: 12px; fill: rgb(42, 63, 95); fill-opacity: 1; white-space: pre;\">100+</text></g></g><g class=\"yaxislayer-above\"><g class=\"y2tick\"><text text-anchor=\"end\" x=\"340.5\" y=\"4.199999999999999\" transform=\"translate(0,237.25)\" style=\"font-family: 'Open Sans', verdana, arial, sans-serif; font-size: 12px; fill: rgb(42, 63, 95); fill-opacity: 1; white-space: pre;\">0</text></g><g class=\"y2tick\"><text text-anchor=\"end\" x=\"340.5\" y=\"4.199999999999999\" style=\"font-family: 'Open Sans', verdana, arial, sans-serif; font-size: 12px; fill: rgb(42, 63, 95); fill-opacity: 1; white-space: pre;\" transform=\"translate(0,198.95)\">200</text></g><g class=\"y2tick\"><text text-anchor=\"end\" x=\"340.5\" y=\"4.199999999999999\" style=\"font-family: 'Open Sans', verdana, arial, sans-serif; font-size: 12px; fill: rgb(42, 63, 95); fill-opacity: 1; white-space: pre;\" transform=\"translate(0,160.64)\">400</text></g><g class=\"y2tick\"><text text-anchor=\"end\" x=\"340.5\" y=\"4.199999999999999\" style=\"font-family: 'Open Sans', verdana, arial, sans-serif; font-size: 12px; fill: rgb(42, 63, 95); fill-opacity: 1; white-space: pre;\" transform=\"translate(0,122.34)\">600</text></g><g class=\"y2tick\"><text text-anchor=\"end\" x=\"340.5\" y=\"4.199999999999999\" style=\"font-family: 'Open Sans', verdana, arial, sans-serif; font-size: 12px; fill: rgb(42, 63, 95); fill-opacity: 1; white-space: pre;\" transform=\"translate(0,84.03)\">800</text></g></g><g class=\"overaxes-above\"/></g><g class=\"subplot x3y3\"><g class=\"layer-subplot\"><g class=\"shapelayer\"/><g class=\"imagelayer\"/></g><g class=\"minor-gridlayer\"><g class=\"x3\"/><g class=\"y3\"/></g><g class=\"gridlayer\"><g class=\"x3\"><path class=\"x3grid crisp\" transform=\"translate(410.48,0)\" d=\"M0,292.75v157.25\" style=\"stroke: rgb(255, 255, 255); stroke-opacity: 1; stroke-width: 1px;\"/><path class=\"x3grid crisp\" transform=\"translate(479.46000000000004,0)\" d=\"M0,292.75v157.25\" style=\"stroke: rgb(255, 255, 255); stroke-opacity: 1; stroke-width: 1px;\"/><path class=\"x3grid crisp\" transform=\"translate(548.45,0)\" d=\"M0,292.75v157.25\" style=\"stroke: rgb(255, 255, 255); stroke-opacity: 1; stroke-width: 1px;\"/></g><g class=\"y3\"/></g><g class=\"zerolinelayer\"><path class=\"x3zl zl crisp\" transform=\"translate(341.5,0)\" d=\"M0,292.75v157.25\" style=\"stroke: rgb(255, 255, 255); stroke-opacity: 1; stroke-width: 2px;\"/></g><g class=\"layer-between\"><g class=\"shapelayer\"/><g class=\"imagelayer\"/></g><path class=\"xlines-below\"/><path class=\"ylines-below\"/><g class=\"overlines-below\"/><g class=\"xaxislayer-below\"/><g class=\"yaxislayer-below\"/><g class=\"overaxes-below\"/><g class=\"overplot\"><g class=\"x3y3\" transform=\"translate(341.5,292.75)\" clip-path=\"url(#clipac60a5x3y3plot)\"><g class=\"barlayer mlayer\"><g class=\"trace bars\" style=\"opacity: 1;\"><g class=\"points\"><g class=\"point\"><path d=\"M0,155.68V143.1H245.58V155.68Z\" style=\"vector-effect: none; opacity: 1; stroke-width: 0.5px; fill: rgb(75, 0, 130); fill-opacity: 1; stroke: rgb(229, 236, 246); stroke-opacity: 1;\"/><text class=\"bartext bartext-inside\" text-anchor=\"middle\" data-notex=\"1\" x=\"0\" y=\"0\" style=\"font-family: 'Open Sans', verdana, arial, sans-serif; font-size: 9px; fill: rgb(255, 255, 255); fill-opacity: 1; white-space: pre;\" transform=\"translate(115.27592329545477,151.48363636363635)scale(0.5981818181818194)\">ROSES REGENCY TEACUP AND SAUCER  &amp; GREEN REGENCY TEACUP AND SAUCER</text></g><g class=\"point\"><path d=\"M0,139.95V127.37H222.47V139.95Z\" style=\"vector-effect: none; opacity: 1; stroke-width: 0.5px; fill: rgb(75, 0, 130); fill-opacity: 1; stroke: rgb(229, 236, 246); stroke-opacity: 1;\"/><text class=\"bartext bartext-inside\" text-anchor=\"middle\" data-notex=\"1\" x=\"0\" y=\"0\" style=\"font-family: 'Open Sans', verdana, arial, sans-serif; font-size: 9px; fill: rgb(255, 255, 255); fill-opacity: 1; white-space: pre;\" transform=\"translate(92.47024147727251,135.75363636363636)scale(0.5981818181818167)\">ALARM CLOCK BAKELIKE RED  &amp; ALARM CLOCK BAKELIKE GREEN</text></g><g class=\"point\"><path d=\"M0,124.23V111.65H217.29V124.23Z\" style=\"vector-effect: none; opacity: 1; stroke-width: 0.5px; fill: rgb(75, 0, 130); fill-opacity: 1; stroke: rgb(229, 236, 246); stroke-opacity: 1;\"/><text class=\"bartext bartext-inside\" text-anchor=\"middle\" data-notex=\"1\" x=\"0\" y=\"0\" style=\"font-family: 'Open Sans', verdana, arial, sans-serif; font-size: 9px; fill: rgb(255, 255, 255); fill-opacity: 1; white-space: pre;\" transform=\"translate(86.33887784090908,120.03363636363636)scale(0.598181818181818)\">JUMBO BAG PINK POLKADOT &amp; JUMBO BAG RED RETROSPOT</text></g><g class=\"point\"><path d=\"M0,108.5V95.92H195.56V108.5Z\" style=\"vector-effect: none; opacity: 1; stroke-width: 0.5px; fill: rgb(75, 0, 130); fill-opacity: 1; stroke: rgb(229, 236, 246); stroke-opacity: 1;\"/><text class=\"bartext bartext-inside\" text-anchor=\"middle\" data-notex=\"1\" x=\"0\" y=\"0\" style=\"font-family: 'Open Sans', verdana, arial, sans-serif; font-size: 9px; fill: rgb(255, 255, 255); fill-opacity: 1; white-space: pre;\" transform=\"translate(84.83407670454544,104.30363636363637)scale(0.598181818181818)\">JUMBO BAG RED RETROSPOT &amp; JUMBO STORAGE BAG SUKI</text></g><g class=\"point\"><path d=\"M0,92.78V80.2H189.35V92.78Z\" style=\"vector-effect: none; opacity: 1; stroke-width: 0.5px; fill: rgb(75, 0, 130); fill-opacity: 1; stroke: rgb(229, 236, 246); stroke-opacity: 1;\"/><text class=\"bartext bartext-inside\" text-anchor=\"middle\" data-notex=\"1\" x=\"0\" y=\"0\" style=\"font-family: 'Open Sans', verdana, arial, sans-serif; font-size: 9px; fill: rgb(255, 255, 255); fill-opacity: 1; white-space: pre;\" transform=\"translate(94.66710990618813,88.25738101385662)scale(0.5049660039590326)\">PINK REGENCY TEACUP AND SAUCER &amp; GREEN REGENCY TEACUP AND SAUCER</text></g><g class=\"point\"><path d=\"M0,77.05V64.47H189.35V77.05Z\" style=\"vector-effect: none; opacity: 1; stroke-width: 0.5px; fill: rgb(75, 0, 130); fill-opacity: 1; stroke: rgb(229, 236, 246); stroke-opacity: 1;\"/><text class=\"bartext bartext-inside\" text-anchor=\"middle\" data-notex=\"1\" x=\"0\" y=\"0\" style=\"font-family: 'Open Sans', verdana, arial, sans-serif; font-size: 9px; fill: rgb(255, 255, 255); fill-opacity: 1; white-space: pre;\" transform=\"translate(74.15559659090907,72.85363636363635)scale(0.598181818181818)\">JUMBO BAG RED RETROSPOT &amp; JUMBO BAG APPLES</text></g><g class=\"point\"><path d=\"M0,61.33V48.75H184.18V61.33Z\" style=\"vector-effect: none; opacity: 1; stroke-width: 0.5px; fill: rgb(75, 0, 130); fill-opacity: 1; stroke: rgb(229, 236, 246); stroke-opacity: 1;\"/><text class=\"bartext bartext-inside\" text-anchor=\"middle\" data-notex=\"1\" x=\"0\" y=\"0\" style=\"font-family: 'Open Sans', verdana, arial, sans-serif; font-size: 9px; fill: rgb(255, 255, 255); fill-opacity: 1; white-space: pre;\" transform=\"translate(92.09000000000002,56.92514641979974)scale(0.5386132627999245)\">JUMBO SHOPPER VINTAGE RED PAISLEY &amp; JUMBO BAG RED RETROSPOT</text></g><g class=\"point\"><path d=\"M0,45.6V33.02H181.08V45.6Z\" style=\"vector-effect: none; opacity: 1; stroke-width: 0.5px; fill: rgb(75, 0, 130); fill-opacity: 1; stroke: rgb(229, 236, 246); stroke-opacity: 1;\"/><text class=\"bartext bartext-inside\" text-anchor=\"middle\" data-notex=\"1\" x=\"0\" y=\"0\" style=\"font-family: 'Open Sans', verdana, arial, sans-serif; font-size: 9px; fill: rgb(255, 255, 255); fill-opacity: 1; white-space: pre;\" transform=\"translate(83.73585227272726,41.403636363636366)scale(0.598181818181818)\">LUNCH BAG  BLACK SKULL. &amp; LUNCH BAG PINK POLKADOT</text></g><g class=\"point\"><path d=\"M0,29.88V17.3H176.94V29.88Z\" style=\"vector-effect: none; opacity: 1; stroke-width: 0.5px; fill: rgb(75, 0, 130); fill-opacity: 1; stroke: rgb(229, 236, 246); stroke-opacity: 1;\"/><text class=\"bartext bartext-inside\" text-anchor=\"middle\" data-notex=\"1\" x=\"0\" y=\"0\" style=\"font-family: 'Open Sans', verdana, arial, sans-serif; font-size: 9px; fill: rgb(255, 255, 255); fill-opacity: 1; white-space: pre;\" transform=\"translate(88.47,25.681009174311924)scale(0.5974311926605504)\">LUNCH BAG  BLACK SKULL. &amp; LUNCH BAG SPACEBOY DESIGN </text></g><g class=\"point\"><path d=\"M0,14.15V1.57H173.83V14.15Z\" style=\"vector-effect: none; opacity: 1; stroke-width: 0.5px; fill: rgb(75, 0, 130); fill-opacity: 1; stroke: rgb(229, 236, 246); stroke-opacity: 1;\"/><text class=\"bartext bartext-inside\" text-anchor=\"middle\" data-notex=\"1\" x=\"0\" y=\"0\" style=\"font-family: 'Open Sans', verdana, arial, sans-serif; font-size: 9px; fill: rgb(255, 255, 255); fill-opacity: 1; white-space: pre;\" transform=\"translate(86.91004476043132,9.635957861419815)scale(0.507416531834233)\">ROSES REGENCY TEACUP AND SAUCER  &amp; REGENCY CAKESTAND 3 TIER</text></g></g></g></g><g class=\"scatterlayer mlayer\"><g class=\"trace scatter tracea6cdef\" style=\"stroke-miterlimit: 2; opacity: 1;\"><g class=\"fills\"/><g class=\"errorbars\"/><g class=\"lines\"/><g class=\"points\"/><g class=\"text\"><g class=\"textpoint\" transform=\"translate(0,2.75)\"><text x=\"245.58\" y=\"149.39\" text-anchor=\"start\" style=\"font-family: 'Open Sans', verdana, arial, sans-serif; font-size: 11px; fill: rgb(0, 0, 0); fill-opacity: 1; white-space: pre;\">712</text></g><g class=\"textpoint\" transform=\"translate(0,2.75)\"><text x=\"222.47\" y=\"133.66\" text-anchor=\"start\" style=\"font-family: 'Open Sans', verdana, arial, sans-serif; font-size: 11px; fill: rgb(0, 0, 0); fill-opacity: 1; white-space: pre;\">645</text></g><g class=\"textpoint\" transform=\"translate(0,2.75)\"><text x=\"217.29\" y=\"117.94\" text-anchor=\"start\" style=\"font-family: 'Open Sans', verdana, arial, sans-serif; font-size: 11px; fill: rgb(0, 0, 0); fill-opacity: 1; white-space: pre;\">630</text></g><g class=\"textpoint\" transform=\"translate(0,2.75)\"><text x=\"195.56\" y=\"102.21\" text-anchor=\"start\" style=\"font-family: 'Open Sans', verdana, arial, sans-serif; font-size: 11px; fill: rgb(0, 0, 0); fill-opacity: 1; white-space: pre;\">567</text></g><g class=\"textpoint\" transform=\"translate(0,2.75)\"><text x=\"189.35\" y=\"86.49\" text-anchor=\"start\" style=\"font-family: 'Open Sans', verdana, arial, sans-serif; font-size: 11px; fill: rgb(0, 0, 0); fill-opacity: 1; white-space: pre;\">549</text></g><g class=\"textpoint\" transform=\"translate(0,2.75)\"><text x=\"189.35\" y=\"70.76\" text-anchor=\"start\" style=\"font-family: 'Open Sans', verdana, arial, sans-serif; font-size: 11px; fill: rgb(0, 0, 0); fill-opacity: 1; white-space: pre;\">549</text></g><g class=\"textpoint\" transform=\"translate(0,2.75)\"><text x=\"184.18\" y=\"55.04\" text-anchor=\"start\" style=\"font-family: 'Open Sans', verdana, arial, sans-serif; font-size: 11px; fill: rgb(0, 0, 0); fill-opacity: 1; white-space: pre;\">534</text></g><g class=\"textpoint\" transform=\"translate(0,2.75)\"><text x=\"181.08\" y=\"39.31\" text-anchor=\"start\" style=\"font-family: 'Open Sans', verdana, arial, sans-serif; font-size: 11px; fill: rgb(0, 0, 0); fill-opacity: 1; white-space: pre;\">525</text></g><g class=\"textpoint\" transform=\"translate(0,2.75)\"><text x=\"176.94\" y=\"23.59\" text-anchor=\"start\" style=\"font-family: 'Open Sans', verdana, arial, sans-serif; font-size: 11px; fill: rgb(0, 0, 0); fill-opacity: 1; white-space: pre;\">513</text></g><g class=\"textpoint\" transform=\"translate(0,2.75)\"><text x=\"173.83\" y=\"7.86\" text-anchor=\"start\" style=\"font-family: 'Open Sans', verdana, arial, sans-serif; font-size: 11px; fill: rgb(0, 0, 0); fill-opacity: 1; white-space: pre;\">504</text></g></g></g></g></g></g><g class=\"zerolinelayer-above\"/><path class=\"xlines-above crisp\" d=\"M0,0\" style=\"fill: none;\"/><path class=\"ylines-above crisp\" d=\"M0,0\" style=\"fill: none;\"/><g class=\"overlines-above\"/><g class=\"xaxislayer-above\"><g class=\"x3tick\"><text text-anchor=\"middle\" x=\"0\" y=\"463\" transform=\"translate(341.5,0)\" style=\"font-family: 'Open Sans', verdana, arial, sans-serif; font-size: 12px; fill: rgb(42, 63, 95); fill-opacity: 1; white-space: pre;\">0</text></g><g class=\"x3tick\"><text text-anchor=\"middle\" x=\"0\" y=\"463\" style=\"font-family: 'Open Sans', verdana, arial, sans-serif; font-size: 12px; fill: rgb(42, 63, 95); fill-opacity: 1; white-space: pre;\" transform=\"translate(410.48,0)\">200</text></g><g class=\"x3tick\"><text text-anchor=\"middle\" x=\"0\" y=\"463\" style=\"font-family: 'Open Sans', verdana, arial, sans-serif; font-size: 12px; fill: rgb(42, 63, 95); fill-opacity: 1; white-space: pre;\" transform=\"translate(479.46000000000004,0)\">400</text></g><g class=\"x3tick\"><text text-anchor=\"middle\" x=\"0\" y=\"463\" style=\"font-family: 'Open Sans', verdana, arial, sans-serif; font-size: 12px; fill: rgb(42, 63, 95); fill-opacity: 1; white-space: pre;\" transform=\"translate(548.45,0)\">600</text></g></g><g class=\"yaxislayer-above\"/><g class=\"overaxes-above\"/></g></g><g class=\"polarlayer\"/><g class=\"smithlayer\"/><g class=\"ternarylayer\"/><g class=\"geolayer\"/><g class=\"funnelarealayer\"/><g class=\"pielayer\"><g class=\"trace\" stroke-linejoin=\"round\" style=\"opacity: 1;\"><g class=\"slice\"><path class=\"surface\" d=\"M179.25,371.375l0,-78.625a78.625,78.625 0 1 1 -65.25939833127238,122.47818180520454Z\" style=\"pointer-events: none; fill: rgb(75, 0, 130); fill-opacity: 1; stroke-width: 0; stroke: rgb(68, 68, 68); stroke-opacity: 1;\"/><g class=\"slicetext\"><text data-notex=\"1\" class=\"slicetext\" transform=\"translate(197.21119641465938,380.9451687766292)rotate(-61.950207468879626)\" text-anchor=\"middle\" x=\"0\" y=\"0\" style=\"font-family: 'Open Sans', verdana, arial, sans-serif; font-size: 12px; fill: rgb(255, 255, 255); fill-opacity: 1; white-space: pre;\"><tspan class=\"line\" dy=\"0em\" x=\"0\" y=\"0\">Multiple Purchases</tspan><tspan class=\"line\" dy=\"1.3em\" x=\"0\" y=\"0\">65.6%</tspan></text></g></g><g class=\"slice\"><path class=\"surface\" d=\"M179.25,371.375l-65.25939833127238,43.853181805204564a78.625,78.625 0 0 1 65.25939833127238,-122.47818180520457Z\" style=\"pointer-events: none; fill: rgb(147, 112, 219); fill-opacity: 1; stroke-width: 0; stroke: rgb(68, 68, 68); stroke-opacity: 1;\"/><g class=\"slicetext\"><text data-notex=\"1\" class=\"slicetext\" transform=\"translate(136.46325649147667,348.5771669756527)rotate(-61.950207468879626)\" text-anchor=\"middle\" x=\"0\" y=\"0\" style=\"font-family: 'Open Sans', verdana, arial, sans-serif; font-size: 12px; fill: rgb(255, 255, 255); fill-opacity: 1; white-space: pre;\"><tspan class=\"line\" dy=\"0em\" x=\"0\" y=\"0\">Single Purchase</tspan><tspan class=\"line\" dy=\"1.3em\" x=\"0\" y=\"0\">34.4%</tspan></text></g></g></g></g><g class=\"iciclelayer\"/><g class=\"treemaplayer\"/><g class=\"sunburstlayer\"/><g class=\"glimages\"/><defs id=\"topdefs-ac60a5\"><g class=\"clips\"/></defs><g class=\"layer-above\"><g class=\"imagelayer\"/><g class=\"shapelayer\"/></g><g class=\"infolayer\"><g class=\"g-gtitle\"><text class=\"gtitle\" x=\"35\" y=\"40\" text-anchor=\"start\" dy=\"0em\" style=\"opacity: 1; font-family: 'Open Sans', verdana, arial, sans-serif; font-size: 24px; fill: rgb(42, 63, 95); fill-opacity: 1; white-space: pre;\">Customer Segmentation Dashboard</text></g><g class=\"g-xtitle\"/><g class=\"g-x2title\"/><g class=\"g-x3title\"/><g class=\"g-ytitle\"/><g class=\"g-y2title\"/><g class=\"g-y3title\"/><g class=\"annotation\" data-index=\"0\" style=\"opacity: 1;\"><g class=\"annotation-text-g\" transform=\"rotate(0,179.25,68.5)\"><g class=\"cursor-pointer\" transform=\"translate(80,57)\"><rect class=\"bg\" x=\"0.5\" y=\"0.5\" width=\"197\" height=\"22\" style=\"stroke-width: 1px; stroke: rgb(0, 0, 0); stroke-opacity: 0; fill: rgb(0, 0, 0); fill-opacity: 0;\"/><text class=\"annotation-text\" text-anchor=\"middle\" x=\"99.0078125\" y=\"18\" style=\"font-family: 'Open Sans', verdana, arial, sans-serif; font-size: 16px; fill: rgb(42, 63, 95); fill-opacity: 1; white-space: pre;\">Order Value Distribution</text></g></g></g><g class=\"annotation\" data-index=\"1\" style=\"opacity: 1;\"><g class=\"annotation-text-g\" transform=\"rotate(0,470.75,68.5)\"><g class=\"cursor-pointer\" transform=\"translate(346,57)\"><rect class=\"bg\" x=\"0.5\" y=\"0.5\" width=\"249\" height=\"22\" style=\"stroke-width: 1px; stroke: rgb(0, 0, 0); stroke-opacity: 0; fill: rgb(0, 0, 0); fill-opacity: 0;\"/><text class=\"annotation-text\" text-anchor=\"middle\" x=\"124.9453125\" y=\"18\" style=\"font-family: 'Open Sans', verdana, arial, sans-serif; font-size: 16px; fill: rgb(42, 63, 95); fill-opacity: 1; white-space: pre;\">Unique Products per Customer</text></g></g></g><g class=\"annotation\" data-index=\"2\" style=\"opacity: 1;\"><g class=\"annotation-text-g\" transform=\"rotate(0,179.25,281.25)\"><g class=\"cursor-pointer\" transform=\"translate(95,270)\"><rect class=\"bg\" x=\"0.5\" y=\"0.5\" width=\"167\" height=\"22\" style=\"stroke-width: 1px; stroke: rgb(0, 0, 0); stroke-opacity: 0; fill: rgb(0, 0, 0); fill-opacity: 0;\"/><text class=\"annotation-text\" text-anchor=\"middle\" x=\"84.0390625\" y=\"18\" style=\"font-family: 'Open Sans', verdana, arial, sans-serif; font-size: 16px; fill: rgb(42, 63, 95); fill-opacity: 1; white-space: pre;\">Customer Purchases</text></g></g></g><g class=\"annotation\" data-index=\"3\" style=\"opacity: 1;\"><g class=\"annotation-text-g\" transform=\"rotate(0,470.75,281.25)\"><g class=\"cursor-pointer\" transform=\"translate(387,270)\"><rect class=\"bg\" x=\"0.5\" y=\"0.5\" width=\"167\" height=\"22\" style=\"stroke-width: 1px; stroke: rgb(0, 0, 0); stroke-opacity: 0; fill: rgb(0, 0, 0); fill-opacity: 0;\"/><text class=\"annotation-text\" text-anchor=\"middle\" x=\"84.1953125\" y=\"18\" style=\"font-family: 'Open Sans', verdana, arial, sans-serif; font-size: 16px; fill: rgb(42, 63, 95); fill-opacity: 1; white-space: pre;\">Top 10 Product Pairs</text></g></g></g></g></svg>"
      ]
     },
     "metadata": {},
     "output_type": "display_data"
    }
   ],
   "source": [
    "from plotly.subplots import make_subplots\n",
    "import plotly.express as px\n",
    "import plotly.graph_objects as go\n",
    "import pandas as pd\n",
    "import sqlite3\n",
    "from itertools import combinations\n",
    "from collections import Counter\n",
    "\n",
    "# 1. Order Value Distribution\n",
    "query_orders = '''\n",
    "SELECT\n",
    "    invoiceno,\n",
    "    SUM(quantity * unitprice) AS order_value\n",
    "FROM online_retail\n",
    "WHERE quantity > 0 AND unitprice > 0\n",
    "GROUP BY invoiceno\n",
    "'''\n",
    "df_orders = pd.read_sql_query(query_orders, conn)\n",
    "\n",
    "bins = [0, 500, 1000, 1500, 2000, 3000, 4000, 5000, float('inf')]\n",
    "labels = ['0–500', '500–1000', '1000–1500', '1500–2000', '2000–3000', '3000–4000', '4000–5000', '5000+']\n",
    "df_orders['order_value_group'] = pd.cut(df_orders['order_value'], bins=bins, labels=labels, right=False)\n",
    "order_group_counts = df_orders['order_value_group'].value_counts().sort_index().reset_index()\n",
    "order_group_counts.columns = ['order_value_range', 'num_orders']\n",
    "\n",
    "fig1 = px.bar(order_group_counts,\n",
    "              x='order_value_range',\n",
    "              y='num_orders',\n",
    "              color_discrete_sequence=['indigo'],\n",
    "              text='num_orders')\n",
    "fig1.update_traces(textposition='outside')\n",
    "fig1.update_layout(plot_bgcolor='white', paper_bgcolor='white',\n",
    "                   xaxis=dict(showgrid=False, zeroline=False, showline=False, ticks=''),\n",
    "                   yaxis=dict(showgrid=False, zeroline=False, showline=False, ticks=''),\n",
    "                   showlegend=False)\n",
    "\n",
    "# 2. Unique Products per Customer\n",
    "query_customers = '''\n",
    "SELECT\n",
    "    customerid,\n",
    "    COUNT(DISTINCT stockcode) AS unique_products\n",
    "FROM online_retail\n",
    "WHERE quantity > 0 AND unitprice > 0 AND customerid IS NOT NULL\n",
    "GROUP BY customerid\n",
    "'''\n",
    "df_customers = pd.read_sql_query(query_customers, conn)\n",
    "\n",
    "bins = [0, 10, 20, 30, 40, 50, 75, 100, float('inf')]\n",
    "labels = ['0–10', '10–20', '20–30', '30–40', '40–50', '50–75', '75–100', '100+']\n",
    "df_customers['product_range'] = pd.cut(df_customers['unique_products'], bins=bins, labels=labels, right=False)\n",
    "customer_bins = df_customers['product_range'].value_counts().sort_index().reset_index()\n",
    "customer_bins.columns = ['product_range', 'num_customers']\n",
    "\n",
    "fig2 = px.bar(customer_bins,\n",
    "              x='product_range',\n",
    "              y='num_customers',\n",
    "              color_discrete_sequence=['indigo'],\n",
    "              text='num_customers')\n",
    "fig2.update_traces(textposition='outside')\n",
    "fig2.update_layout(plot_bgcolor='white', paper_bgcolor='white',\n",
    "                   xaxis=dict(showgrid=False, zeroline=False, showline=False, ticks=''),\n",
    "                   yaxis=dict(showgrid=False, zeroline=False, showline=False, ticks=''),\n",
    "                   showlegend=False)\n",
    "\n",
    "# 3. Customer Purchases Pie\n",
    "query_orders_per_customer = '''\n",
    "SELECT\n",
    "    customerid,\n",
    "    COUNT(DISTINCT invoiceno) AS num_orders\n",
    "FROM online_retail\n",
    "WHERE quantity > 0 AND unitprice > 0 AND customerid IS NOT NULL\n",
    "GROUP BY customerid\n",
    "'''\n",
    "df_orders_per_customer = pd.read_sql_query(query_orders_per_customer, conn)\n",
    "\n",
    "\n",
    "total_customers = df_orders_per_customer['customerid'].nunique()\n",
    "single_order_customers = df_orders_per_customer[df_orders_per_customer['num_orders'] == 1]['customerid'].nunique()\n",
    "multiple_order_customers = total_customers - single_order_customers\n",
    "\n",
    "summary_df = pd.DataFrame({\n",
    "    'Customer Type': ['Single Purchase', 'Multiple Purchases'],\n",
    "    'Count': [single_order_customers, multiple_order_customers]\n",
    "})\n",
    "\n",
    "fig3 = px.pie(\n",
    "    summary_df,\n",
    "    names='Customer Type',\n",
    "    values='Count',\n",
    "    color='Customer Type',\n",
    "    color_discrete_map={\n",
    "        'Single Purchase': '#9370DB',\n",
    "        'Multiple Purchases': '#4B0082'\n",
    "    }\n",
    ")\n",
    "fig3.update_traces(textposition='inside', textinfo='percent+label', showlegend=False, textfont=dict(color='white'))\n",
    "\n",
    "\n",
    "# 4. Top 10 Product Pairs\n",
    "#conn = sqlite3.connect('../data/online_retail.db')\n",
    "query_pairs = \"SELECT InvoiceNo, Description FROM online_retail WHERE InvoiceNo IS NOT NULL AND Description IS NOT NULL\"\n",
    "df_pairs_data = pd.read_sql_query(query_pairs, conn)\n",
    "\n",
    "\n",
    "basket = df_pairs_data.groupby(\"invoiceno\")[\"description\"].apply(list)\n",
    "pairs = Counter()\n",
    "for items in basket:\n",
    "    items = list(set(items))\n",
    "    pairs.update(Counter(combinations(items, 2)))\n",
    "df_pairs = pd.DataFrame(pairs.most_common(10), columns=[\"Pair\", \"TimesBoughtTogether\"])\n",
    "df_pairs[\"Pair\"] = df_pairs[\"Pair\"].apply(lambda x: \" & \".join(x))\n",
    "\n",
    "fig4 = px.bar(\n",
    "    df_pairs,\n",
    "    x=\"TimesBoughtTogether\",\n",
    "    y=\"Pair\",\n",
    "    orientation='h',\n",
    "    color_discrete_sequence=['indigo'],\n",
    "    hover_data={'TimesBoughtTogether': False}\n",
    ")\n",
    "\n",
    "fig4.update_traces(\n",
    "    hovertemplate='<b>%{y}</b><extra></extra>',\n",
    "    textposition=\"outside\",\n",
    "    textfont=dict(color=\"black\", size=11)\n",
    ")\n",
    "\n",
    "fig4.update_layout(\n",
    "    plot_bgcolor='white',\n",
    "    paper_bgcolor='white',\n",
    "    xaxis=dict(showgrid=False, zeroline=False, showline=False, ticks=''),\n",
    "    yaxis=dict(showticklabels=False, showgrid=False, zeroline=False, showline=False, ticks='')\n",
    ")\n",
    "\n",
    "fig4.update_traces(\n",
    "    text=df_pairs[\"Pair\"],\n",
    "    textposition=\"inside\",\n",
    "    insidetextanchor=\"start\",\n",
    "    textfont=dict(color=\"white\", size=9),\n",
    "    textangle=0\n",
    ")\n",
    "\n",
    "fig4.add_trace(\n",
    "    go.Scatter(\n",
    "        x=df_pairs[\"TimesBoughtTogether\"],\n",
    "        y=df_pairs[\"Pair\"],\n",
    "        mode='text',\n",
    "        text=df_pairs[\"TimesBoughtTogether\"],\n",
    "        textposition='middle right',\n",
    "        textfont=dict(color=\"black\", size=11),\n",
    "        showlegend=False,\n",
    "        xaxis='x',\n",
    "        yaxis='y'\n",
    "    )\n",
    ")\n",
    "\n",
    "# -------------------\n",
    "# Assemble 2x2 Dashboard\n",
    "# -------------------\n",
    "dashboard = make_subplots(\n",
    "    rows=2, cols=2,\n",
    "    specs=[[{'type':'xy'}, {'type':'xy'}],\n",
    "           [{'type':'domain'}, {'type':'xy'}]],\n",
    "    subplot_titles=(\"Order Value Distribution\",\n",
    "                    \"Unique Products per Customer\",\n",
    "                    \"Customer Purchases\",\n",
    "                    \"Top 10 Product Pairs\"),\n",
    "    horizontal_spacing=0.06,\n",
    "    vertical_spacing=0.15\n",
    ")\n",
    "\n",
    "for trace in fig1.data: dashboard.add_trace(trace, row=1, col=1)\n",
    "for trace in fig2.data: dashboard.add_trace(trace, row=1, col=2)\n",
    "for trace in fig3.data: dashboard.add_trace(trace, row=2, col=1)\n",
    "for trace in fig4.data: dashboard.add_trace(trace, row=2, col=2)\n",
    "\n",
    "dashboard.update_yaxes(showticklabels=False, row=2, col=2)\n",
    "\n",
    "dashboard.update_layout(\n",
    "    height=950, width=1200,\n",
    "    title_text=\"Customer Segmentation Dashboard\",\n",
    "    title_font=dict(size=24),\n",
    "    plot_bgcolor='white', paper_bgcolor='white',\n",
    "    showlegend=False,\n",
    "    margin=dict(l=50, r=100, t=80, b=50)\n",
    ")\n",
    "\n",
    "dashboard.show()"
   ]
  },
  {
   "cell_type": "markdown",
   "id": "5827cb59-1efd-40a2-912e-472fe3f5de3b",
   "metadata": {
    "id": "5827cb59-1efd-40a2-912e-472fe3f5de3b"
   },
   "source": [
    "## Overall conclusions\n",
    "\n",
    "Sales are unevenly distributed: dominated by many small orders and a few very large ones.\n",
    "\n",
    "A large proportion of customers are one-time buyers → retention is a major growth opportunity.\n",
    "\n",
    "Strong product pairings exist → useful for cross-selling and recommendations.\n",
    "\n",
    "Customer segmentation by product diversity shows different shopping behaviors worth targeting separately."
   ]
  }
 ],
 "metadata": {
  "colab": {
   "provenance": []
  },
  "kernelspec": {
   "display_name": "Python [conda env:base] *",
   "language": "python",
   "name": "conda-base-py"
  },
  "language_info": {
   "codemirror_mode": {
    "name": "ipython",
    "version": 3
   },
   "file_extension": ".py",
   "mimetype": "text/x-python",
   "name": "python",
   "nbconvert_exporter": "python",
   "pygments_lexer": "ipython3",
   "version": "3.12.7"
  }
 },
 "nbformat": 4,
 "nbformat_minor": 5
}
